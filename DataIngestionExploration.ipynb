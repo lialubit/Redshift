{
 "cells": [
  {
   "cell_type": "markdown",
   "metadata": {},
   "source": [
    "_Alex Malz (NYU)_\n",
    "\n",
    "# Quantifying support between COSMOS and zCOSMOS"
   ]
  },
  {
   "cell_type": "markdown",
   "metadata": {},
   "source": [
    "The data: [zCOSMOS](http://vizier.u-strasbg.fr/viz-bin/VizieR?-source=J%2FApJS%2F184%2F218) and [COSMOS](http://vizier.u-strasbg.fr/viz-bin/VizieR?-source=II%2F284)."
   ]
  },
  {
   "cell_type": "code",
   "execution_count": null,
   "metadata": {},
   "outputs": [],
   "source": [
    "import astropy as ap\n",
    "from astropy.io import fits\n",
    "from astropy.table import Table\n",
    "import csv\n",
    "\n",
    "import numpy as np\n",
    "import pandas as pd\n",
    "import scipy.stats as sps\n",
    "\n",
    "import timeit\n",
    "\n",
    "import causalinference"
   ]
  },
  {
   "cell_type": "code",
   "execution_count": null,
   "metadata": {},
   "outputs": [],
   "source": [
    "import matplotlib as mpl\n",
    "mpl.rcParams['text.usetex'] = True\n",
    "mpl.rcParams['mathtext.rm'] = 'serif'\n",
    "mpl.rcParams['font.family'] = 'serif'\n",
    "mpl.rcParams['font.serif'] = 'Times New Roman'\n",
    "mpl.rcParams['axes.titlesize'] = 16\n",
    "mpl.rcParams['axes.labelsize'] = 14\n",
    "mpl.rcParams['savefig.dpi'] = 250\n",
    "mpl.rcParams['savefig.format'] = 'pdf'\n",
    "mpl.rcParams['savefig.bbox'] = 'tight'\n",
    "\n",
    "import matplotlib.pyplot as plt\n",
    "%matplotlib inline\n",
    "import corner"
   ]
  },
  {
   "cell_type": "markdown",
   "metadata": {},
   "source": [
    "## Exploratory data analysis"
   ]
  },
  {
   "cell_type": "markdown",
   "metadata": {},
   "source": [
    "Read in the data produced by [CDS XMatch](cdsxmatch.u-strasbg.fr/xmatch) set to 5\"."
   ]
  },
  {
   "cell_type": "code",
   "execution_count": null,
   "metadata": {},
   "outputs": [],
   "source": [
    "with open('1511124733287A.csv', 'rb') as csvfile:\n",
    "    xmatchreader = csv.reader(csvfile)\n",
    "    tuples = (line for line in xmatchreader)\n",
    "    col_names = tuples.next()\n",
    "    print(col_names)\n",
    "    n_cols = len(col_names)\n",
    "    col_inds = range(n_cols)\n",
    "    xmatch = [[pair[k] for k in col_inds] for pair in tuples]\n",
    "test_data = pd.DataFrame(xmatch, columns=col_names)"
   ]
  },
  {
   "cell_type": "markdown",
   "metadata": {},
   "source": [
    "How many pairs are found?"
   ]
  },
  {
   "cell_type": "code",
   "execution_count": null,
   "metadata": {},
   "outputs": [],
   "source": [
    "original_xmatch = test_data[['zCOSMOS', 'COSMOS']].astype(int)\n",
    "print(original_xmatch.shape)"
   ]
  },
  {
   "cell_type": "markdown",
   "metadata": {},
   "source": [
    "Remove duplicate matches -- I should replace this with dropping the duplicate with larger `'angDist'` instead of dropping both.  How many were duplicates?"
   ]
  },
  {
   "cell_type": "code",
   "execution_count": null,
   "metadata": {},
   "outputs": [],
   "source": [
    "unique_xmatch = original_xmatch.drop_duplicates(subset=['zCOSMOS'], keep=False)\n",
    "xmatch = unique_xmatch.drop_duplicates(subset=['COSMOS'], keep=False)\n",
    "print(xmatch.shape)"
   ]
  },
  {
   "cell_type": "markdown",
   "metadata": {},
   "source": [
    "FITS file of both spectroscopic and photometric data -- I have no memory of how I got both of these in one file.\n",
    "Warning: this step is slow because this is the whole dataset!"
   ]
  },
  {
   "cell_type": "code",
   "execution_count": null,
   "metadata": {},
   "outputs": [],
   "source": [
    "with fits.open('asu.fit') as hdulist:\n",
    "    print(hdulist.info())\n",
    "    spec_header = hdulist[1].header\n",
    "    phot_header = hdulist[2].header\n",
    "    spec_data = pd.DataFrame(hdulist[1].data)\n",
    "    phot_data = pd.DataFrame(hdulist[2].data)"
   ]
  },
  {
   "cell_type": "markdown",
   "metadata": {},
   "source": [
    "What do we know about zCOSMOS galaxies?"
   ]
  },
  {
   "cell_type": "code",
   "execution_count": null,
   "metadata": {},
   "outputs": [],
   "source": [
    "print(spec_header)\n",
    "print(spec_data.columns)"
   ]
  },
  {
   "cell_type": "markdown",
   "metadata": {},
   "source": [
    "What do we know about COSMOS galaxies?"
   ]
  },
  {
   "cell_type": "code",
   "execution_count": null,
   "metadata": {},
   "outputs": [],
   "source": [
    "print(phot_header)\n",
    "print(phot_data.columns)"
   ]
  },
  {
   "cell_type": "markdown",
   "metadata": {},
   "source": [
    "Let's merge zCOSMOS columns to zCOSMOS galaxies that appear in the cross-match and COSMOS columns to COSMOS galaxies that appear in the cross-match."
   ]
  },
  {
   "cell_type": "code",
   "execution_count": null,
   "metadata": {},
   "outputs": [],
   "source": [
    "partial = xmatch.merge(spec_data, on='zCOSMOS', how=\"outer\")\n",
    "print(partial.columns)\n",
    "combo = partial.merge(phot_data, on='COSMOS', how='outer')\n",
    "print(combo.columns)"
   ]
  },
  {
   "cell_type": "markdown",
   "metadata": {},
   "source": [
    "Now let's construct separate dataframes for the COSMOS and zCOSMOS data for all zCOSMOS galaxies and the COSMOS data for COSMOS galaxies that aren't also zCOSMOS galaxies."
   ]
  },
  {
   "cell_type": "code",
   "execution_count": null,
   "metadata": {},
   "outputs": [],
   "source": [
    "spec_samp = xmatch.merge(spec_data, on='zCOSMOS', how=\"left\").merge(phot_data, on='COSMOS', how='left')\n",
    "phot_samp = phot_data[(~phot_data['COSMOS'].isin(xmatch['COSMOS']))]"
   ]
  },
  {
   "cell_type": "code",
   "execution_count": null,
   "metadata": {},
   "outputs": [],
   "source": [
    "print(len(spec_data), len(phot_data))\n",
    "print(len(spec_samp), len(phot_samp))"
   ]
  },
  {
   "cell_type": "code",
   "execution_count": null,
   "metadata": {},
   "outputs": [],
   "source": [
    "plt.scatter(spec_samp['z'], spec_samp['zphot'], color='k', marker='.', s=5, alpha=0.25)\n",
    "plt.xlabel('z')\n",
    "plt.ylabel('zphot')\n",
    "plt.savefig('scatter.png')"
   ]
  },
  {
   "cell_type": "markdown",
   "metadata": {},
   "source": [
    "Those `'z'=0.0` galaxies are definitely not physical.  Let's check what their quality flag was."
   ]
  },
  {
   "cell_type": "code",
   "execution_count": null,
   "metadata": {},
   "outputs": [],
   "source": [
    "spec_samp['CClass'][spec_samp['z'] == 0.].value_counts().plot(kind='bar')"
   ]
  },
  {
   "cell_type": "markdown",
   "metadata": {},
   "source": [
    "Oh yeah, they were overwhelmingly flagged as being bad observations, so let's get rid of them.  Interestingly, the galaxies assigned `'zphot'=0.0` weren't all bad."
   ]
  },
  {
   "cell_type": "code",
   "execution_count": null,
   "metadata": {},
   "outputs": [],
   "source": [
    "spec_samp['CClass'][spec_samp['zphot'] == 0.].value_counts().plot(kind='bar')"
   ]
  },
  {
   "cell_type": "markdown",
   "metadata": {},
   "source": [
    "Let's drop all the galaxies flagged as being bad observations to see if it fixes the problem"
   ]
  },
  {
   "cell_type": "code",
   "execution_count": null,
   "metadata": {},
   "outputs": [],
   "source": [
    "spec_samp_cleaner_z = spec_samp[spec_samp['CClass'] != 0.]\n",
    "phot_samp_cleaner_z = phot_samp"
   ]
  },
  {
   "cell_type": "code",
   "execution_count": null,
   "metadata": {},
   "outputs": [],
   "source": [
    "print(spec_samp_cleaner_z.shape)\n",
    "print(phot_samp_cleaner_z.shape)"
   ]
  },
  {
   "cell_type": "markdown",
   "metadata": {},
   "source": [
    "Okay, let's see if cutting out the bad observations removed all those definitely wrong zeros."
   ]
  },
  {
   "cell_type": "code",
   "execution_count": null,
   "metadata": {},
   "outputs": [],
   "source": [
    "plt.scatter(spec_samp_cleaner_z['z'], spec_samp_cleaner_z['zphot'], marker='.', s=5, alpha=0.25, color='k')\n",
    "plt.xlabel('z')\n",
    "plt.ylabel('zphot')\n",
    "plt.savefig('scatter_cleaner.png')"
   ]
  },
  {
   "cell_type": "markdown",
   "metadata": {},
   "source": [
    "Nope, they're still there!  Let's just cut them out and hope for the best."
   ]
  },
  {
   "cell_type": "code",
   "execution_count": null,
   "metadata": {},
   "outputs": [],
   "source": [
    "spec_samp_clean_z = spec_samp_cleaner_z[spec_samp_cleaner_z['z'] != 0.]#spec_samp[spec_samp['z'] != 0.][spec_samp['zphot'] != 0.]\n",
    "phot_samp_clean_z = phot_samp_cleaner_z[phot_samp_cleaner_z['zphot'] != 0.]#phot_samp[phot_samp['zphot'] != 0.]"
   ]
  },
  {
   "cell_type": "code",
   "execution_count": null,
   "metadata": {},
   "outputs": [],
   "source": [
    "plt.scatter(spec_samp_clean_z['z'], spec_samp_clean_z['zphot'], marker='.', s=5, alpha=0.25, color='k')\n",
    "plt.xlabel('z')\n",
    "plt.ylabel('zphot')\n",
    "plt.savefig('scatter_cleanest.png')"
   ]
  },
  {
   "cell_type": "markdown",
   "metadata": {},
   "source": [
    "Now we can check the distributions of the zCOSMOS+COSMOS `'z'` and `'zphot'` as well as the COSMOS-only `'zphot'`.  Do they have common support?"
   ]
  },
  {
   "cell_type": "code",
   "execution_count": null,
   "metadata": {},
   "outputs": [],
   "source": [
    "z_range = np.linspace(0., 3.5, 50)\n",
    "plt.hist(spec_samp_clean_z['z'], bins=z_range, normed=True, color='k', alpha=0.25, label='z (spec sample)', histtype='step', linewidth=2)\n",
    "plt.hist(spec_samp_clean_z['zphot'], bins=z_range, normed=True, color='b', alpha=0.25, label='zphot (spec sample)', histtype='step', linewidth=2)\n",
    "plt.hist(phot_samp_clean_z['zphot'], bins=z_range, normed=True, color='r', alpha=0.25, label='zphot (phot sample)', histtype='step', linewidth=2)\n",
    "plt.legend(loc='upper right')\n",
    "plt.ylabel('normalized frequency')\n",
    "plt.xlabel('z')\n",
    "plt.savefig('hist.png')"
   ]
  },
  {
   "cell_type": "markdown",
   "metadata": {},
   "source": [
    "We also know that the magnitudes are set to 0. when the observation is bad, so let's filter out all of those, too."
   ]
  },
  {
   "cell_type": "code",
   "execution_count": null,
   "metadata": {},
   "outputs": [],
   "source": [
    "# this is not an efficient way to do this!\n",
    "spec_samp_clean_zmags = spec_samp_clean_z[spec_samp_clean_z['Bmag'] != 0.][spec_samp_clean_z['Vmag'] != 0.][spec_samp_clean_z['gmag'] != 0.][spec_samp_clean_z['rmag'] != 0.][spec_samp_clean_z['imag'] != 0.][spec_samp_clean_z['zmag'] != 0.]\n",
    "phot_samp_clean_zmags = phot_samp_clean_z[phot_samp_clean_z['Bmag'] != 0.][phot_samp_clean_z['Vmag'] != 0.][phot_samp_clean_z['gmag'] != 0.][phot_samp_clean_z['rmag'] != 0.][phot_samp_clean_z['imag'] != 0.][phot_samp_clean_z['zmag'] != 0.]\n",
    "\n",
    "print(len(spec_samp_clean_zmags))\n",
    "print(len(phot_samp_clean_zmags))"
   ]
  },
  {
   "cell_type": "markdown",
   "metadata": {},
   "source": [
    "I want to make a really sick plot showing the distributions of data for the zCOSMOS and COSMOS datasets."
   ]
  },
  {
   "cell_type": "code",
   "execution_count": null,
   "metadata": {},
   "outputs": [],
   "source": [
    "def density_estimation(m1, m2):\n",
    "    X, Y = np.mgrid[min(m1):max(m1):100j, min(m2):max(m2):100j]                                                     \n",
    "    positions = np.vstack([X.ravel(), Y.ravel()])                                                       \n",
    "    values = np.vstack([m1, m2])                                                                        \n",
    "    kernel = sps.gaussian_kde(values)                                                             \n",
    "    Z = np.reshape(kernel(positions).T, X.shape)\n",
    "    return X, Y, Z\n",
    "\n",
    "def mycorner(data, keys, colors, maps, lims=None, pre_densities=None, filename='plot.pdf'):\n",
    "    ncol = len(keys)\n",
    "    fig = plt.figure(figsize=(ncol*5, ncol*5))\n",
    "    ax = [[fig.add_subplot(ncol, ncol, ncol * i + j + 1) for j in range(i+1)] for i in range(ncol)]\n",
    "    for k in range(len(data)):\n",
    "        datum = data[k]\n",
    "        npoints = len(datum)\n",
    "        for i in range(ncol):\n",
    "            for j in range(i+1):\n",
    "                if i == j:\n",
    "                    ax[i][j].hist(datum[keys[i]], bins=50, histtype='step', linewidth=2, normed=True, alpha=0.75, color=colors[k])\n",
    "                    ax[i][j].set_xlabel(keys[i])\n",
    "                else:\n",
    "                    if npoints > 1e4:\n",
    "                        ax[i][j].hist2d(datum[keys[i]], datum[keys[j]], bins=(100, 100), normed=True, cmap=maps[k], alpha=0.5)\n",
    "                    else:\n",
    "                        if pre_densities is None:\n",
    "                            x, y, z = density_estimation(datum[keys[i]], datum[keys[j]])\n",
    "                        else:\n",
    "                            (x, y, z) = pre_densities[i][j]\n",
    "                        ax[i][j].contour(x, y, z, cmap=plt.get_cmap(maps[k]) , alpha=0.5)\n",
    "                    ax[i][j].set_xlabel(keys[i])\n",
    "                    ax[i][j].set_ylabel(keys[j])\n",
    "                    if lims is not None:\n",
    "                        ax[i][j].set_xlim(lims)\n",
    "                        ax[i][j].set_ylim(lims)\n",
    "    fig.savefig(filename, dpi=100)\n",
    "    return\n",
    "# replace with 2d histogram for speed"
   ]
  },
  {
   "cell_type": "markdown",
   "metadata": {},
   "source": [
    "Here it is, with blue for zCOSMOS galaxies and red for COSMOS-only galaxies."
   ]
  },
  {
   "cell_type": "code",
   "execution_count": null,
   "metadata": {},
   "outputs": [],
   "source": [
    "post_densities = mycorner([spec_samp_clean_zmags, phot_samp_clean_zmags], ['Bmag', 'Vmag', 'gmag', 'rmag','imag', 'zmag', 'zphot'], ['b', 'r'], ['Blues', 'Reds'], filename='big_corner_coarse.png')"
   ]
  },
  {
   "cell_type": "markdown",
   "metadata": {},
   "source": [
    "That was using the magnitudes, which are log-fluxes.  We know that colors, the differences between adjacent magnitudes, are more informative because they're resistant to the dimming due to distance alone, i.e. they have more information about the galaxy's redshift if it were nearer to us.  This controls for some galaxies just being brighter than others, so we compare those that would otherwise have a similar appearance aside from brightness."
   ]
  },
  {
   "cell_type": "code",
   "execution_count": null,
   "metadata": {},
   "outputs": [],
   "source": [
    "covars = ['B-V', 'V-g', 'g-r', 'r-i', 'i-z']\n",
    "\n",
    "def make_colors(data):\n",
    "    data['B-V'] = data['Bmag'] - data['Vmag']\n",
    "    data['V-g'] = data['Vmag'] - data['gmag']\n",
    "    data['g-r'] = data['gmag'] - data['rmag']\n",
    "    data['r-i'] = data['rmag'] - data['imag']\n",
    "    data['i-z'] = data['imag'] - data['zmag']\n",
    "    return(data)"
   ]
  },
  {
   "cell_type": "code",
   "execution_count": null,
   "metadata": {},
   "outputs": [],
   "source": [
    "make_colors(spec_samp_clean_zmags)\n",
    "make_colors(phot_samp_clean_zmags)"
   ]
  },
  {
   "cell_type": "markdown",
   "metadata": {},
   "source": [
    "Let's make that plot again!"
   ]
  },
  {
   "cell_type": "code",
   "execution_count": null,
   "metadata": {},
   "outputs": [],
   "source": [
    "post_densities = mycorner([spec_samp_clean_zmags, phot_samp_clean_zmags], ['B-V', 'V-g', 'g-r', 'r-i', 'i-z', 'zphot'], ['b', 'r'], ['Blues', 'Reds'], filename='color_corner.png')"
   ]
  },
  {
   "cell_type": "markdown",
   "metadata": {},
   "source": [
    "Sweet, this looks good, so we can save the cleaned data and use that from now on."
   ]
  },
  {
   "cell_type": "code",
   "execution_count": null,
   "metadata": {},
   "outputs": [],
   "source": [
    "spec_samp_clean_zmags.to_pickle('spec_samp.pkl')\n",
    "phot_samp_clean_zmags.to_pickle('phot_samp.pkl')"
   ]
  },
  {
   "cell_type": "markdown",
   "metadata": {},
   "source": [
    "# Ignore after this point!"
   ]
  },
  {
   "cell_type": "markdown",
   "metadata": {},
   "source": [
    "The colors are better predictors of redshift than the magnitudes."
   ]
  },
  {
   "cell_type": "code",
   "execution_count": null,
   "metadata": {},
   "outputs": [],
   "source": [
    "# covars = ['B-V', 'V-g', 'g-r', 'r-i', 'i-z']\n",
    "\n",
    "# print(spec_samp_clean_zmags[covars])"
   ]
  },
  {
   "cell_type": "code",
   "execution_count": null,
   "metadata": {},
   "outputs": [],
   "source": [
    "# print(len(spec_samp_clean_zmags))\n",
    "# corner.corner(spec_samp_clean_zmags[['umag', 'gmag','rmag','imag', 'zmag']])"
   ]
  },
  {
   "cell_type": "code",
   "execution_count": null,
   "metadata": {},
   "outputs": [],
   "source": [
    "# print(len(phot_samp_clean_zmags))\n",
    "# corner.corner(phot_samp_clean_zmags[['umag', 'gmag','rmag','imag', 'zmag']])"
   ]
  },
  {
   "cell_type": "code",
   "execution_count": null,
   "metadata": {},
   "outputs": [],
   "source": [
    "# print(spec_data.columns, phot_data.columns)"
   ]
  },
  {
   "cell_type": "code",
   "execution_count": null,
   "metadata": {},
   "outputs": [],
   "source": []
  }
 ],
 "metadata": {
  "kernelspec": {
   "display_name": "no really, Python 2",
   "language": "python",
   "name": "python2"
  },
  "language_info": {
   "codemirror_mode": {
    "name": "ipython",
    "version": 2
   },
   "file_extension": ".py",
   "mimetype": "text/x-python",
   "name": "python",
   "nbconvert_exporter": "python",
   "pygments_lexer": "ipython2",
   "version": "2.7.14"
  }
 },
 "nbformat": 4,
 "nbformat_minor": 2
}
