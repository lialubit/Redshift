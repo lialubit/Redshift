{
 "cells": [
  {
   "cell_type": "code",
   "execution_count": null,
   "metadata": {
    "collapsed": true
   },
   "outputs": [],
   "source": [
    "##I don't know why the only thing in the list is the last value of i\n",
    "for i in Galaxies_and_Redshifts_List_df['UltraViolet']:\n",
    "    Umag_list = []\n",
    "    i = .7 * i\n",
    "    i = i / 31.4\n",
    "    if i == 0:\n",
    "        i = 0\n",
    "        print(i)\n",
    "    else:\n",
    "        i = math.log10(i)\n",
    "        i = i * -2.5\n",
    "        print(i)\n",
    "    Umag_list.append(i)\n",
    "Umag_list\n",
    "Galaxies_and_Redshifts_List_df['Umag'] = pd.Series(Umag_list, index=Galaxies_and_Redshifts_List_df.index)"
   ]
  },
  {
   "cell_type": "code",
   "execution_count": null,
   "metadata": {
    "collapsed": true
   },
   "outputs": [],
   "source": [
    "##I don't know why the only thing in the list is the last value of i\n",
    "for i in Galaxies_and_Redshifts_List_df['Green']:\n",
    "    Gmag_list = []\n",
    "    i = .7 * i\n",
    "    i = i / 31.4\n",
    "    if i == 0:\n",
    "        i = 0\n",
    "        print(i)\n",
    "    else:\n",
    "        i = math.log10(i)\n",
    "        i = i * -2.5\n",
    "        print(i)\n",
    "    Gmag_list.append(i)\n",
    "Gmag_list\n",
    "Galaxies_and_Redshifts_List_df['Gmag'] = pd.Series(Gmag_list, index=Galaxies_and_Redshifts_List_df.index)"
   ]
  },
  {
   "cell_type": "code",
   "execution_count": null,
   "metadata": {
    "collapsed": true
   },
   "outputs": [],
   "source": [
    "##I don't know why the only thing in the list is the last value of i\n",
    "for i in Galaxies_and_Redshifts_List_df['Red']:\n",
    "    Rmag_list = []\n",
    "    i = .7 * i\n",
    "    i = i / 31.4\n",
    "    if i == 0:\n",
    "        i = 0\n",
    "        print(i)\n",
    "    else:\n",
    "        i = math.log10(i)\n",
    "        i = i * -2.5\n",
    "        print(i)\n",
    "    Rmag_list.append(i)\n",
    "Rmag_list\n",
    "Galaxies_and_Redshifts_List_df['Rmag'] = pd.Series(Rmag_list, index=Galaxies_and_Redshifts_List_df.index)"
   ]
  },
  {
   "cell_type": "code",
   "execution_count": null,
   "metadata": {
    "collapsed": true
   },
   "outputs": [],
   "source": [
    "##I don't know why the only thing in the list is the last value of i\n",
    "for i in Galaxies_and_Redshifts_List_df['InfraRed']:\n",
    "    Imag_list = []\n",
    "    i = .7 * i\n",
    "    i = i / 31.4\n",
    "    if i == 0:\n",
    "        i = 0\n",
    "        print(i)\n",
    "    else:\n",
    "        i = math.log10(i)\n",
    "        i = i * -2.5\n",
    "        print(i)\n",
    "    Imag_list.append(i)\n",
    "Imag_list\n",
    "Galaxies_and_Redshifts_List_df['Imag'] = pd.Series(Imag_list, index=Galaxies_and_Redshifts_List_df.index)"
   ]
  },
  {
   "cell_type": "code",
   "execution_count": null,
   "metadata": {
    "collapsed": true
   },
   "outputs": [],
   "source": [
    "##I don't know why the only thing in the list is the last value of i\n",
    "for i in Galaxies_and_Redshifts_List_df['Z']:\n",
    "    Zmag_list = []\n",
    "    i = .7 * i\n",
    "    i = i / 31.4\n",
    "    if i == 0:\n",
    "        i = 0\n",
    "        print(i)\n",
    "    else:\n",
    "        i = math.log10(i)\n",
    "        i = i * -2.5\n",
    "        print(i)\n",
    "    Zmag_list.append(i)\n",
    "Zmag_list\n",
    "Galaxies_and_Redshifts_List_df['Zmag'] = pd.Series(Zmag_list, index=Galaxies_and_Redshifts_List_df.index)"
   ]
  }
 ],
 "metadata": {
  "kernelspec": {
   "display_name": "Python 3",
   "language": "python",
   "name": "python3"
  },
  "language_info": {
   "codemirror_mode": {
    "name": "ipython",
    "version": 3
   },
   "file_extension": ".py",
   "mimetype": "text/x-python",
   "name": "python",
   "nbconvert_exporter": "python",
   "pygments_lexer": "ipython3",
   "version": "3.6.3"
  }
 },
 "nbformat": 4,
 "nbformat_minor": 2
}
