{
 "cells": [
  {
   "cell_type": "code",
   "execution_count": null,
   "metadata": {
    "collapsed": true
   },
   "outputs": [],
   "source": [
    "import astropy\n",
    "from astropy import io\n",
    "from astropy.io import fits"
   ]
  },
  {
   "cell_type": "code",
   "execution_count": null,
   "metadata": {
    "collapsed": true
   },
   "outputs": [],
   "source": [
    "actual_data = data[5:-2]"
   ]
  },
  {
   "cell_type": "code",
   "execution_count": null,
   "metadata": {},
   "outputs": [],
   "source": [
    "help(astropy.io.fits)"
   ]
  },
  {
   "cell_type": "code",
   "execution_count": null,
   "metadata": {
    "collapsed": true
   },
   "outputs": [],
   "source": [
    "fits_data = astropy.io.fits.open('asu.fit')\n",
    "ZCosmos = fits_data[1].data"
   ]
  },
  {
   "cell_type": "code",
   "execution_count": null,
   "metadata": {},
   "outputs": [],
   "source": [
    "name_info = fits_data[1].columns\n",
    "print([i.name for i in name_info])\n",
    "ZCosmos_names = [i.name for i in name_info]"
   ]
  },
  {
   "cell_type": "code",
   "execution_count": null,
   "metadata": {},
   "outputs": [],
   "source": [
    "Useful_columns_zcosmos_data = [ZCosmos_names[3], ZCosmos_names[5]]"
   ]
  },
  {
   "cell_type": "code",
   "execution_count": null,
   "metadata": {},
   "outputs": [],
   "source": [
    "for i in Useful_columns_zcosmos_data:\n",
    "    import matplotlib.pyplot as plt\n",
    "    plt.hist(ZCosmos[i], color='blue', linewidth=5)\n",
    "    plt.xlim(0, 30)\n",
    "    plt.xlabel(i)\n",
    "    plt.ylabel(\"Number\")\n",
    "    plt.title(\"ZCosmos\" + \" \" + i)\n",
    "    plt.savefig(\"ZCosmos\" + \" \" + i + \" \" + \"Plot.png\")\n",
    "    plt.show()"
   ]
  },
  {
   "cell_type": "code",
   "execution_count": null,
   "metadata": {
    "collapsed": true
   },
   "outputs": [],
   "source": [
    "fits_data2 = astropy.io.fits.open('asu2.fit')\n",
    "Cosmos = fits_data2[1].data"
   ]
  },
  {
   "cell_type": "code",
   "execution_count": null,
   "metadata": {},
   "outputs": [],
   "source": [
    "name_info2 = fits_data2[1].columns\n",
    "print([i.name for i in name_info2])\n",
    "Cosmos_names = [i.name for i in name_info2]"
   ]
  },
  {
   "cell_type": "code",
   "execution_count": null,
   "metadata": {},
   "outputs": [],
   "source": [
    "Useful_columns_cosmos_range = list(range(5, 15)) + [16]\n",
    "Useful_columns_cosmos_data = [Cosmos_names[i] for i in Useful_columns_cosmos_range]\n",
    "print(Useful_columns_cosmos_data)"
   ]
  },
  {
   "cell_type": "code",
   "execution_count": null,
   "metadata": {},
   "outputs": [],
   "source": [
    "for i in Useful_columns_cosmos_data:\n",
    "    import matplotlib.pyplot as plt\n",
    "    plt.hist(Cosmos[i], color='blue', linewidth=5)\n",
    "    plt.xlim(0, 30)\n",
    "    plt.xlabel(i)\n",
    "    plt.ylabel(\"Number\")\n",
    "    plt.title(\"Cosmos\" + \" \" + i)\n",
    "    plt.savefig(\"Cosmos\" + \" \" + i + \" \" + \"Plot.png\")\n",
    "    plt.show()"
   ]
  },
  {
   "cell_type": "code",
   "execution_count": null,
   "metadata": {},
   "outputs": [],
   "source": [
    "for i in :\n",
    "    import matplotlib.pyplot as plt\n",
    "    plt.hist(ZCosmos[i], color='green', linewidth=5, alpha=0.5, label=\"ZCosmos\")\n",
    "    plt.hist(Cosmos[i], color='blue', linewidth=5, alpha=0.5, label=\"Cosmos\")\n",
    "    plt.xlim(0, 2)\n",
    "    plt.xlabel(\"i\")\n",
    "    plt.ylabel(\"Number\")\n",
    "    plt.title(\"Cosmos AND ZCosmos\" + \" \" + i)\n",
    "    plt.legend()\n",
    "    plt.show()"
   ]
  },
  {
   "cell_type": "code",
   "execution_count": null,
   "metadata": {
    "collapsed": true
   },
   "outputs": [],
   "source": [
    "import matplotlib.pyplot as plt\n",
    "plt.hist(x, color='green', linewidth=5, alpha=0.5, label=\"ZCosmos\")\n",
    "plt.hist(x2, color='blue', linewidth=5, alpha=0.5, label=\"Cosmos\")\n",
    "plt.xlim(0, 2)\n",
    "plt.xlabel(\"Redshift\")\n",
    "plt.ylabel(\"Number\")\n",
    "plt.title(\"Cosmos AND ZCosmos Redshift\")\n",
    "plt.legend()\n",
    "plt.savefig(\"Redshift Plot 3.png\")\n",
    "plt.show()"
   ]
  },
  {
   "cell_type": "code",
   "execution_count": null,
   "metadata": {},
   "outputs": [],
   "source": [
    "import matplotlib.pyplot as plt\n",
    "plt.hist(x4, bins = 50, color='green', linewidth=5, alpha=0.5, label=\"Bmag\")\n",
    "plt.hist(x5, bins = 50, color='blue', linewidth=5, alpha=0.5, label=\"Vmag\")\n",
    "plt.hist(x6, bins = 50, color='purple', linewidth=5, alpha=0.5, label=\"gmag\")\n",
    "plt.hist(x7, bins = 50, color='yellow', linewidth=5, alpha=0.5, label=\"rmag\")\n",
    "plt.hist(x8, bins = 50, color='red', linewidth=5, alpha=0.5, label=\"umag\")\n",
    "plt.hist(x9, bins = 50, color='orange', linewidth=5, alpha=0.5, label=\"imag\")\n",
    "plt.hist(x11, bins = 50, color='magenta', linewidth=5, alpha=0.5, label=\"zmag\")\n",
    "plt.xlim(0, 30)\n",
    "plt.xlabel(\"Magnitudes\")\n",
    "plt.ylabel(\"Number\")\n",
    "plt.title(\"Cosmos Magnitues\")\n",
    "plt.legend()\n",
    "plt.show()\n",
    "plt.savefig(\"Cosmos Magnitues Plot.png\")"
   ]
  },
  {
   "cell_type": "code",
   "execution_count": null,
   "metadata": {},
   "outputs": [],
   "source": [
    "len(cosmoskmag[cosmoskmag == 0.])"
   ]
  },
  {
   "cell_type": "code",
   "execution_count": null,
   "metadata": {},
   "outputs": [],
   "source": [
    "for i in [6, 7, 8, 9, 11, 13]:\n",
    "    name = data2.names[i]\n",
    "    plt.hist(data2[name][data2['Kmag'] != 0.])\n",
    "plt.show()"
   ]
  },
  {
   "cell_type": "code",
   "execution_count": null,
   "metadata": {},
   "outputs": [],
   "source": [
    "import numpy as np\n",
    "import matplotlib.pyplot as plt\n",
    "\n",
    "plt.scatter(cosmosgmag, cosmosrmag)\n",
    "plt.xlim(15,30)\n",
    "plt.ylim(15,30)plt.show()"
   ]
  },
  {
   "cell_type": "code",
   "execution_count": null,
   "metadata": {
    "collapsed": true
   },
   "outputs": [],
   "source": [
    "interesting_columns = [6, 7, 8, 9, 11, 13]\n",
    "col_range = range(len(interesting_columns))"
   ]
  },
  {
   "cell_type": "code",
   "execution_count": null,
   "metadata": {
    "collapsed": true
   },
   "outputs": [],
   "source": [
    "for j in col_range:\n",
    "    i = interesting_columns[j]\n",
    "    y = i+1\n",
    "    plt.scatter(i, y)\n",
    "    print(len(i))\n",
    "    print(len(y))"
   ]
  }
 ],
 "metadata": {
  "kernelspec": {
   "display_name": "Python 3",
   "language": "python",
   "name": "python3"
  },
  "language_info": {
   "codemirror_mode": {
    "name": "ipython",
    "version": 3
   },
   "file_extension": ".py",
   "mimetype": "text/x-python",
   "name": "python",
   "nbconvert_exporter": "python",
   "pygments_lexer": "ipython3",
   "version": "3.6.3"
  }
 },
 "nbformat": 4,
 "nbformat_minor": 2
}
