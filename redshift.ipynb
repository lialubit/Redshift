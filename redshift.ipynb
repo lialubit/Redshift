{
 "cells": [
  {
   "cell_type": "code",
   "execution_count": null,
   "metadata": {
    "collapsed": true
   },
   "outputs": [],
   "source": [
    "import astropy\n",
    "from astropy import io\n",
    "from astropy.io import fits"
   ]
  },
  {
   "cell_type": "code",
   "execution_count": null,
   "metadata": {
    "collapsed": true
   },
   "outputs": [],
   "source": [
    "zcosmos = 'zcosmos-asu-txt.txt'\n",
    "f = open(zcosmos, 'r')\n",
    "data = f.read()"
   ]
  },
  {
   "cell_type": "code",
   "execution_count": null,
   "metadata": {
    "collapsed": true
   },
   "outputs": [],
   "source": [
    "cosmos = 'cosmos-asu-txt.txt'\n",
    "g = open(cosmos, 'r')\n",
    "data2 = g.read()"
   ]
  },
  {
   "cell_type": "code",
   "execution_count": null,
   "metadata": {
    "collapsed": true
   },
   "outputs": [],
   "source": [
    "import csv\n",
    "data = []\n",
    "\n",
    "with open('zcosmos-asu-txt.txt', 'r') as f:\n",
    "    read_the_data = csv.reader(f, delimiter=' ')\n",
    "    for row in read_the_data:\n",
    "        data.append(row)"
   ]
  },
  {
   "cell_type": "code",
   "execution_count": null,
   "metadata": {
    "collapsed": true
   },
   "outputs": [],
   "source": [
    "actual_data = data[5:-2]"
   ]
  },
  {
   "cell_type": "code",
   "execution_count": null,
   "metadata": {},
   "outputs": [],
   "source": [
    "help(astropy.io.fits)"
   ]
  },
  {
   "cell_type": "code",
   "execution_count": null,
   "metadata": {},
   "outputs": [],
   "source": [
    "fits_data = astropy.io.fits.open('asu.fit')"
   ]
  },
  {
   "cell_type": "code",
   "execution_count": null,
   "metadata": {
    "collapsed": true
   },
   "outputs": [],
   "source": [
    "data = fits_data[1].data"
   ]
  },
  {
   "cell_type": "code",
   "execution_count": null,
   "metadata": {},
   "outputs": [],
   "source": [
    "x = data[\"z\"]\n",
    "print(x)"
   ]
  },
  {
   "cell_type": "code",
   "execution_count": null,
   "metadata": {},
   "outputs": [],
   "source": [
    "import csv\n",
    "data2 = []\n",
    "\n",
    "with open('cosmos-asu-txt.txt', 'r') as f2:\n",
    "    read_the_data = csv.reader(f2, delimiter=' ')\n",
    "    for row in read_the_data:\n",
    "        data2.append(row)"
   ]
  },
  {
   "cell_type": "code",
   "execution_count": null,
   "metadata": {
    "collapsed": true
   },
   "outputs": [],
   "source": [
    "fits_data2 = astropy.io.fits.open('asu2.fit')\n",
    "data2 = fits_data2[1].data"
   ]
  },
  {
   "cell_type": "code",
   "execution_count": null,
   "metadata": {},
   "outputs": [],
   "source": [
    "x2 = data2[\"zphot\"]\n",
    "print(x2)"
   ]
  },
  {
   "cell_type": "code",
   "execution_count": null,
   "metadata": {},
   "outputs": [],
   "source": [
    "import matplotlib.pyplot as plt\n",
    "plt.hist(x2, color='blue', linewidth=5)\n",
    "plt.xlim(0, 2)\n",
    "plt.xlabel(\"Redshift\")\n",
    "plt.ylabel(\"Number\")\n",
    "plt.title(\"Cosmos Redshift\")\n",
    "plt.savefig(\"Redshift Plot 2.png\")\n",
    "plt.show()"
   ]
  },
  {
   "cell_type": "code",
   "execution_count": null,
   "metadata": {},
   "outputs": [],
   "source": [
    "import matplotlib.pyplot as plt\n",
    "plt.hist(x, color='blue', linewidth=5)\n",
    "plt.xlim(0, 1)\n",
    "plt.xlabel(\"Redshift\")\n",
    "plt.ylabel(\"Number\")\n",
    "plt.title(\"ZCosmos Redshift\")\n",
    "plt.savefig(\"Redshift Plot 1.png\")\n",
    "plt.show()"
   ]
  },
  {
   "cell_type": "code",
   "execution_count": null,
   "metadata": {},
   "outputs": [],
   "source": [
    "import matplotlib.pyplot as plt\n",
    "plt.hist(x, color='green', linewidth=5, alpha=0.5, label=\"ZCosmos\")\n",
    "plt.hist(x2, color='blue', linewidth=5, alpha=0.5, label=\"Cosmos\")\n",
    "plt.xlim(0, 2)\n",
    "plt.xlabel(\"Redshift\")\n",
    "plt.ylabel(\"Number\")\n",
    "plt.title(\"Cosmos AND ZCosmos Redshift\")\n",
    "plt.legend()\n",
    "plt.savefig(\"Redshift Plot 3.png\")\n",
    "plt.show()"
   ]
  },
  {
   "cell_type": "code",
   "execution_count": null,
   "metadata": {},
   "outputs": [],
   "source": [
    "x3 = data[\"Imag\"]\n",
    "print(x3)\n",
    "zcosmosimag = x3"
   ]
  },
  {
   "cell_type": "code",
   "execution_count": null,
   "metadata": {},
   "outputs": [],
   "source": [
    "import matplotlib.pyplot as plt\n",
    "plt.hist(x3, color='blue', linewidth=5)\n",
    "plt.xlim(0, 30)\n",
    "plt.xlabel(\"Imag\")\n",
    "plt.ylabel(\"Number\")\n",
    "plt.title(\"ZCosmos Imag\")\n",
    "plt.savefig(\"ZCosmos Imag Plot.png\")\n",
    "plt.show()"
   ]
  },
  {
   "cell_type": "code",
   "execution_count": null,
   "metadata": {},
   "outputs": [],
   "source": [
    "x4 = data2[\"Bmag\"]\n",
    "print(x4)\n",
    "cosmosbmag = x4"
   ]
  },
  {
   "cell_type": "code",
   "execution_count": null,
   "metadata": {},
   "outputs": [],
   "source": [
    "x5 = data2[\"Vmag\"]\n",
    "print(x5)\n",
    "cosmosvmag = x5"
   ]
  },
  {
   "cell_type": "code",
   "execution_count": null,
   "metadata": {},
   "outputs": [],
   "source": [
    "x6 = data2[\"gmag\"]\n",
    "print(x6)\n",
    "cosmosgmag = x6"
   ]
  },
  {
   "cell_type": "code",
   "execution_count": null,
   "metadata": {},
   "outputs": [],
   "source": [
    "x7 = data2[\"rmag\"]\n",
    "print(x7)\n",
    "cosmosrmag = x7"
   ]
  },
  {
   "cell_type": "code",
   "execution_count": null,
   "metadata": {},
   "outputs": [],
   "source": [
    "print(data2.names)"
   ]
  },
  {
   "cell_type": "code",
   "execution_count": null,
   "metadata": {},
   "outputs": [],
   "source": [
    "x8 = data2[\"umag\"]\n",
    "print(x8)\n",
    "cosmosumag = x8"
   ]
  },
  {
   "cell_type": "code",
   "execution_count": null,
   "metadata": {},
   "outputs": [],
   "source": [
    "x9 = data2[\"imag\"]\n",
    "print(x9)\n",
    "cosmosimag = x9"
   ]
  },
  {
   "cell_type": "code",
   "execution_count": null,
   "metadata": {},
   "outputs": [],
   "source": [
    "x11 = data2[\"zmag\"]\n",
    "print(x11)\n",
    "cosmoszmag = x11"
   ]
  },
  {
   "cell_type": "code",
   "execution_count": null,
   "metadata": {},
   "outputs": [],
   "source": [
    "x12 = data2[\"Kmag\"]\n",
    "print(x12)\n",
    "cosmoskmag = x12"
   ]
  },
  {
   "cell_type": "code",
   "execution_count": null,
   "metadata": {},
   "outputs": [],
   "source": [
    "import matplotlib.pyplot as plt\n",
    "plt.hist(x4, color='blue', linewidth=5)\n",
    "plt.xlim(0, 30)\n",
    "plt.xlabel(\"Bmag\")\n",
    "plt.ylabel(\"Number\")\n",
    "plt.title(\"Cosmos Bmag\")\n",
    "plt.savefig(\"Cosmos Bmag Plot.png\")\n",
    "plt.show()"
   ]
  },
  {
   "cell_type": "code",
   "execution_count": null,
   "metadata": {
    "collapsed": true
   },
   "outputs": [],
   "source": [
    "import matplotlib.pyplot as plt\n",
    "plt.hist(x5, color='blue', linewidth=5)\n",
    "plt.xlim(0, 30)\n",
    "plt.xlabel(\"Vmag\")\n",
    "plt.ylabel(\"Number\")\n",
    "plt.title(\"Cosmos Vmag\")\n",
    "plt.savefig(\"Cosmos Vmag Plot.png\")\n",
    "plt.show()"
   ]
  },
  {
   "cell_type": "code",
   "execution_count": null,
   "metadata": {
    "collapsed": true
   },
   "outputs": [],
   "source": [
    "import matplotlib.pyplot as plt\n",
    "plt.hist(x6, color='blue', linewidth=5)\n",
    "plt.xlim(0, 30)\n",
    "plt.xlabel(\"gmag\")\n",
    "plt.ylabel(\"Number\")\n",
    "plt.title(\"Cosmos gmag\")\n",
    "plt.savefig(\"Cosmos gmag Plot.png\")\n",
    "plt.show()"
   ]
  },
  {
   "cell_type": "code",
   "execution_count": null,
   "metadata": {
    "collapsed": true
   },
   "outputs": [],
   "source": [
    "import matplotlib.pyplot as plt\n",
    "plt.hist(x7, color='blue', linewidth=5)\n",
    "plt.xlim(0, 30)\n",
    "plt.xlabel(\"rmag\")\n",
    "plt.ylabel(\"Number\")\n",
    "plt.title(\"Cosmos rmag\")\n",
    "plt.savefig(\"Cosmos rmag Plot.png\")\n",
    "plt.show()"
   ]
  },
  {
   "cell_type": "code",
   "execution_count": null,
   "metadata": {
    "collapsed": true
   },
   "outputs": [],
   "source": [
    "import matplotlib.pyplot as plt\n",
    "plt.hist(x8, color='blue', linewidth=5)\n",
    "plt.xlim(0, 30)\n",
    "plt.xlabel(\"umag\")\n",
    "plt.ylabel(\"Number\")\n",
    "plt.title(\"Cosmos umag\")\n",
    "plt.savefig(\"Cosmos umag Plot.png\")\n",
    "plt.show()"
   ]
  },
  {
   "cell_type": "code",
   "execution_count": null,
   "metadata": {
    "collapsed": true
   },
   "outputs": [],
   "source": [
    "import matplotlib.pyplot as plt\n",
    "plt.hist(x9, color='blue', linewidth=5)\n",
    "plt.xlim(0, 30)\n",
    "plt.xlabel(\"imag\")\n",
    "plt.ylabel(\"Number\")\n",
    "plt.title(\"Cosmos imag\")\n",
    "plt.savefig(\"Cosmos imag Plot.png\")\n",
    "plt.show()"
   ]
  },
  {
   "cell_type": "code",
   "execution_count": null,
   "metadata": {
    "collapsed": true
   },
   "outputs": [],
   "source": [
    "import matplotlib.pyplot as plt\n",
    "plt.hist(x11, color='blue', linewidth=5)\n",
    "plt.xlim(0, 30)\n",
    "plt.xlabel(\"Zmag\")\n",
    "plt.ylabel(\"Number\")\n",
    "plt.title(\"Cosmos Zmag\")\n",
    "plt.savefig(\"Cosmos Zmag Plot.png\")\n",
    "plt.show()"
   ]
  },
  {
   "cell_type": "code",
   "execution_count": null,
   "metadata": {
    "collapsed": true
   },
   "outputs": [],
   "source": [
    "import matplotlib.pyplot as plt\n",
    "plt.hist(x12, color='blue', linewidth=5)\n",
    "plt.xlim(0, 30)\n",
    "plt.xlabel(\"Kmag\")\n",
    "plt.ylabel(\"Number\")\n",
    "plt.title(\"Cosmos Kmag\")\n",
    "plt.savefig(\"Cosmos Kmag Plot.png\")\n",
    "plt.show()"
   ]
  },
  {
   "cell_type": "code",
   "execution_count": null,
   "metadata": {},
   "outputs": [],
   "source": [
    "import matplotlib.pyplot as plt\n",
    "plt.hist(x4, bins = 50, color='green', linewidth=5, alpha=0.5, label=\"Bmag\")\n",
    "plt.hist(x5, bins = 50, color='blue', linewidth=5, alpha=0.5, label=\"Vmag\")\n",
    "plt.hist(x6, bins = 50, color='purple', linewidth=5, alpha=0.5, label=\"gmag\")\n",
    "plt.hist(x7, bins = 50, color='yellow', linewidth=5, alpha=0.5, label=\"rmag\")\n",
    "plt.hist(x8, bins = 50, color='red', linewidth=5, alpha=0.5, label=\"umag\")\n",
    "plt.hist(x9, bins = 50, color='orange', linewidth=5, alpha=0.5, label=\"imag\")\n",
    "plt.hist(x11, bins = 50, color='magenta', linewidth=5, alpha=0.5, label=\"zmag\")\n",
    "plt.xlim(0, 30)\n",
    "plt.xlabel(\"Magnitudes\")\n",
    "plt.ylabel(\"Number\")\n",
    "plt.title(\"Cosmos Magnitues\")\n",
    "plt.legend()\n",
    "plt.show()\n",
    "plt.savefig(\"Cosmos Magnitues Plot.png\")"
   ]
  },
  {
   "cell_type": "code",
   "execution_count": null,
   "metadata": {},
   "outputs": [],
   "source": [
    "len(cosmoskmag[cosmoskmag == 0.])"
   ]
  },
  {
   "cell_type": "code",
   "execution_count": null,
   "metadata": {},
   "outputs": [],
   "source": [
    "for i in [6, 7, 8, 9, 11, 13]:\n",
    "    name = data2.names[i]\n",
    "    plt.hist(data2[name][data2['Kmag'] != 0.])\n",
    "plt.show()"
   ]
  },
  {
   "cell_type": "code",
   "execution_count": null,
   "metadata": {},
   "outputs": [],
   "source": [
    "import numpy as np\n",
    "import matplotlib.pyplot as plt\n",
    "\n",
    "plt.scatter(cosmosgmag, cosmosrmag)\n",
    "plt.xlim(15,30)\n",
    "plt.ylim(15,30)plt.show()"
   ]
  },
  {
   "cell_type": "code",
   "execution_count": null,
   "metadata": {},
   "outputs": [],
   "source": [
    "interesting_columns = [6, 7, 8, 9, 11, 13]\n",
    "col_range = range(len(interesting_columns))"
   ]
  },
  {
   "cell_type": "code",
   "execution_count": null,
   "metadata": {
    "collapsed": true
   },
   "outputs": [],
   "source": [
    "for j in col_range:\n",
    "    i = interesting_columns[j]\n",
    "    y = i+1\n",
    "    plt.scatter(i, y)\n",
    "    print(len(i))\n",
    "    print(len(y))"
   ]
  }
 ],
 "metadata": {
  "kernelspec": {
   "display_name": "Python 3",
   "language": "python",
   "name": "python3"
  },
  "language_info": {
   "codemirror_mode": {
    "name": "ipython",
    "version": 3
   },
   "file_extension": ".py",
   "mimetype": "text/x-python",
   "name": "python",
   "nbconvert_exporter": "python",
   "pygments_lexer": "ipython3",
   "version": "3.6.3"
  }
 },
 "nbformat": 4,
 "nbformat_minor": 2
}
