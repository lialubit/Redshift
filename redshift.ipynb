{
 "cells": [
  {
   "cell_type": "code",
   "execution_count": 12,
   "metadata": {
    "collapsed": true
   },
   "outputs": [],
   "source": [
    "import astropy\n",
    "from astropy import io\n",
    "from astropy.io import fits\n",
    "import csv\n",
    "import pandas as pd\n",
    "import numpy as np\n",
    "import matplotlib.pyplot as plt"
   ]
  },
  {
   "cell_type": "code",
   "execution_count": 13,
   "metadata": {
    "collapsed": true
   },
   "outputs": [],
   "source": [
    "fits_data = astropy.io.fits.open('asu.fit')\n",
    "ZCosmos = fits_data[1].data"
   ]
  },
  {
   "cell_type": "code",
   "execution_count": 14,
   "metadata": {},
   "outputs": [
    {
     "name": "stdout",
     "output_type": "stream",
     "text": [
      "['zCOSMOS', 'RAJ2000', 'DEJ2000', 'z', 'CClass', 'Imag', 'Mask']\n"
     ]
    }
   ],
   "source": [
    "name_info = fits_data[1].columns\n",
    "print([i.name for i in name_info])\n",
    "ZCosmos_names = [i.name for i in name_info]"
   ]
  },
  {
   "cell_type": "code",
   "execution_count": 15,
   "metadata": {
    "collapsed": true
   },
   "outputs": [],
   "source": [
    "Useful_columns_zcosmos_data = [ZCosmos_names[3], ZCosmos_names[5]]"
   ]
  },
  {
   "cell_type": "code",
   "execution_count": 16,
   "metadata": {},
   "outputs": [
    {
     "name": "stdout",
     "output_type": "stream",
     "text": [
      "['z', 'Imag']\n"
     ]
    }
   ],
   "source": [
    "print(Useful_columns_zcosmos_data)"
   ]
  },
  {
   "cell_type": "code",
   "execution_count": 17,
   "metadata": {},
   "outputs": [
    {
     "name": "stdout",
     "output_type": "stream",
     "text": [
      "[ 0.8798  0.6972  0.9069 ...,  0.7077  0.6776  0.8266]\n"
     ]
    }
   ],
   "source": [
    "z = Useful_columns_zcosmos_data[0]\n",
    "ZCosmos_redshift = ZCosmos[z]\n",
    "print(ZCosmos_redshift)"
   ]
  },
  {
   "cell_type": "code",
   "execution_count": 18,
   "metadata": {
    "collapsed": true
   },
   "outputs": [],
   "source": [
    "fits_data2 = astropy.io.fits.open('asu2.fit')\n",
    "Cosmos = fits_data2[1].data"
   ]
  },
  {
   "cell_type": "code",
   "execution_count": 19,
   "metadata": {},
   "outputs": [
    {
     "name": "stdout",
     "output_type": "stream",
     "text": [
      "['COSMOS', 'RAJ2000', 'DEJ2000', 'istar', 'imagA', 'n_imagA', 'umag', 'Bmag', 'Vmag', 'gmag', 'rmag', 'imag', 'e_imag', 'zmag', 'Kmag', 'NB816', 'zphot']\n"
     ]
    }
   ],
   "source": [
    "name_info2 = fits_data2[1].columns\n",
    "print([i.name for i in name_info2])\n",
    "Cosmos_names = [i.name for i in name_info2]"
   ]
  },
  {
   "cell_type": "code",
   "execution_count": 20,
   "metadata": {},
   "outputs": [
    {
     "name": "stdout",
     "output_type": "stream",
     "text": [
      "['n_imagA', 'umag', 'Bmag', 'Vmag', 'gmag', 'rmag', 'imag', 'e_imag', 'zmag', 'Kmag', 'zphot']\n"
     ]
    }
   ],
   "source": [
    "Useful_columns_cosmos_range = list(range(5, 15)) + [16]\n",
    "Useful_columns_cosmos_data = [Cosmos_names[i] for i in Useful_columns_cosmos_range]\n",
    "print(Useful_columns_cosmos_data)"
   ]
  },
  {
   "cell_type": "code",
   "execution_count": 21,
   "metadata": {},
   "outputs": [
    {
     "name": "stdout",
     "output_type": "stream",
     "text": [
      "[ 1.34  0.76  0.4  ...,  0.08  1.5   1.57]\n"
     ]
    }
   ],
   "source": [
    "Zphot = Useful_columns_cosmos_data[10]\n",
    "Cosmos_redshift = Cosmos[Zphot]\n",
    "print(Cosmos_redshift)"
   ]
  },
  {
   "cell_type": "code",
   "execution_count": null,
   "metadata": {
    "collapsed": true
   },
   "outputs": [],
   "source": []
  },
  {
   "cell_type": "code",
   "execution_count": null,
   "metadata": {
    "collapsed": true
   },
   "outputs": [],
   "source": []
  },
  {
   "cell_type": "code",
   "execution_count": 31,
   "metadata": {},
   "outputs": [
    {
     "data": {
      "text/html": [
       "<div>\n",
       "<style>\n",
       "    .dataframe thead tr:only-child th {\n",
       "        text-align: right;\n",
       "    }\n",
       "\n",
       "    .dataframe thead th {\n",
       "        text-align: left;\n",
       "    }\n",
       "\n",
       "    .dataframe tbody tr th {\n",
       "        vertical-align: top;\n",
       "    }\n",
       "</style>\n",
       "<table border=\"1\" class=\"dataframe\">\n",
       "  <thead>\n",
       "    <tr style=\"text-align: right;\">\n",
       "      <th></th>\n",
       "      <th>zCOSMOS</th>\n",
       "      <th>RAJ2000</th>\n",
       "      <th>DEJ2000</th>\n",
       "      <th>z</th>\n",
       "      <th>CClass</th>\n",
       "      <th>Imag</th>\n",
       "      <th>Mask</th>\n",
       "    </tr>\n",
       "  </thead>\n",
       "  <tbody>\n",
       "    <tr>\n",
       "      <th>0</th>\n",
       "      <td>700137</td>\n",
       "      <td>150.502792</td>\n",
       "      <td>1.877646</td>\n",
       "      <td>0.8798</td>\n",
       "      <td>1.5</td>\n",
       "      <td>22.27</td>\n",
       "      <td>1</td>\n",
       "    </tr>\n",
       "    <tr>\n",
       "      <th>1</th>\n",
       "      <td>700142</td>\n",
       "      <td>150.395737</td>\n",
       "      <td>1.837453</td>\n",
       "      <td>0.6972</td>\n",
       "      <td>3.5</td>\n",
       "      <td>21.96</td>\n",
       "      <td>1</td>\n",
       "    </tr>\n",
       "    <tr>\n",
       "      <th>2</th>\n",
       "      <td>700178</td>\n",
       "      <td>150.305008</td>\n",
       "      <td>1.876265</td>\n",
       "      <td>0.9069</td>\n",
       "      <td>9.5</td>\n",
       "      <td>22.24</td>\n",
       "      <td>1</td>\n",
       "    </tr>\n",
       "    <tr>\n",
       "      <th>3</th>\n",
       "      <td>700189</td>\n",
       "      <td>150.308258</td>\n",
       "      <td>1.916484</td>\n",
       "      <td>0.8964</td>\n",
       "      <td>2.5</td>\n",
       "      <td>21.84</td>\n",
       "      <td>1</td>\n",
       "    </tr>\n",
       "    <tr>\n",
       "      <th>4</th>\n",
       "      <td>700210</td>\n",
       "      <td>150.210480</td>\n",
       "      <td>1.828116</td>\n",
       "      <td>0.2835</td>\n",
       "      <td>1.5</td>\n",
       "      <td>22.14</td>\n",
       "      <td>1</td>\n",
       "    </tr>\n",
       "  </tbody>\n",
       "</table>\n",
       "</div>"
      ],
      "text/plain": [
       "   zCOSMOS     RAJ2000   DEJ2000       z  CClass   Imag  Mask\n",
       "0   700137  150.502792  1.877646  0.8798     1.5  22.27     1\n",
       "1   700142  150.395737  1.837453  0.6972     3.5  21.96     1\n",
       "2   700178  150.305008  1.876265  0.9069     9.5  22.24     1\n",
       "3   700189  150.308258  1.916484  0.8964     2.5  21.84     1\n",
       "4   700210  150.210480  1.828116  0.2835     1.5  22.14     1"
      ]
     },
     "execution_count": 31,
     "metadata": {},
     "output_type": "execute_result"
    }
   ],
   "source": [
    "df = pd.DataFrame(fits_data[1].data)\n",
    "df.head()"
   ]
  },
  {
   "cell_type": "code",
   "execution_count": 32,
   "metadata": {},
   "outputs": [
    {
     "data": {
      "text/html": [
       "<div>\n",
       "<style>\n",
       "    .dataframe thead tr:only-child th {\n",
       "        text-align: right;\n",
       "    }\n",
       "\n",
       "    .dataframe thead th {\n",
       "        text-align: left;\n",
       "    }\n",
       "\n",
       "    .dataframe tbody tr th {\n",
       "        vertical-align: top;\n",
       "    }\n",
       "</style>\n",
       "<table border=\"1\" class=\"dataframe\">\n",
       "  <thead>\n",
       "    <tr style=\"text-align: right;\">\n",
       "      <th></th>\n",
       "      <th>COSMOS</th>\n",
       "      <th>RAJ2000</th>\n",
       "      <th>DEJ2000</th>\n",
       "      <th>istar</th>\n",
       "      <th>imagA</th>\n",
       "      <th>n_imagA</th>\n",
       "      <th>umag</th>\n",
       "      <th>Bmag</th>\n",
       "      <th>Vmag</th>\n",
       "      <th>gmag</th>\n",
       "      <th>rmag</th>\n",
       "      <th>imag</th>\n",
       "      <th>e_imag</th>\n",
       "      <th>zmag</th>\n",
       "      <th>Kmag</th>\n",
       "      <th>NB816</th>\n",
       "      <th>zphot</th>\n",
       "    </tr>\n",
       "  </thead>\n",
       "  <tbody>\n",
       "    <tr>\n",
       "      <th>0</th>\n",
       "      <td>26429</td>\n",
       "      <td>150.74847</td>\n",
       "      <td>1.62620</td>\n",
       "      <td>0.40</td>\n",
       "      <td>24.1249</td>\n",
       "      <td>1</td>\n",
       "      <td>25.4934</td>\n",
       "      <td>24.9912</td>\n",
       "      <td>24.9563</td>\n",
       "      <td>25.2105</td>\n",
       "      <td>24.7035</td>\n",
       "      <td>24.2957</td>\n",
       "      <td>0.0540</td>\n",
       "      <td>23.5802</td>\n",
       "      <td>23.1113</td>\n",
       "      <td>24.2467</td>\n",
       "      <td>1.34</td>\n",
       "    </tr>\n",
       "    <tr>\n",
       "      <th>1</th>\n",
       "      <td>26430</td>\n",
       "      <td>150.78005</td>\n",
       "      <td>1.62618</td>\n",
       "      <td>0.14</td>\n",
       "      <td>23.7194</td>\n",
       "      <td>1</td>\n",
       "      <td>25.0668</td>\n",
       "      <td>24.5890</td>\n",
       "      <td>24.6187</td>\n",
       "      <td>24.8700</td>\n",
       "      <td>24.4337</td>\n",
       "      <td>24.0031</td>\n",
       "      <td>0.0446</td>\n",
       "      <td>23.4544</td>\n",
       "      <td>22.9926</td>\n",
       "      <td>23.9513</td>\n",
       "      <td>0.76</td>\n",
       "    </tr>\n",
       "    <tr>\n",
       "      <th>2</th>\n",
       "      <td>26431</td>\n",
       "      <td>150.79328</td>\n",
       "      <td>1.62584</td>\n",
       "      <td>0.80</td>\n",
       "      <td>23.5582</td>\n",
       "      <td>1</td>\n",
       "      <td>25.1767</td>\n",
       "      <td>24.6644</td>\n",
       "      <td>24.1307</td>\n",
       "      <td>24.6667</td>\n",
       "      <td>23.9864</td>\n",
       "      <td>23.6708</td>\n",
       "      <td>0.0364</td>\n",
       "      <td>23.2240</td>\n",
       "      <td>22.4682</td>\n",
       "      <td>23.5978</td>\n",
       "      <td>0.40</td>\n",
       "    </tr>\n",
       "    <tr>\n",
       "      <th>3</th>\n",
       "      <td>26433</td>\n",
       "      <td>150.73299</td>\n",
       "      <td>1.62607</td>\n",
       "      <td>0.60</td>\n",
       "      <td>24.8256</td>\n",
       "      <td>1</td>\n",
       "      <td>25.1141</td>\n",
       "      <td>24.8163</td>\n",
       "      <td>24.7607</td>\n",
       "      <td>24.7935</td>\n",
       "      <td>24.9016</td>\n",
       "      <td>24.7355</td>\n",
       "      <td>0.0738</td>\n",
       "      <td>24.3860</td>\n",
       "      <td>0.0000</td>\n",
       "      <td>24.6030</td>\n",
       "      <td>0.01</td>\n",
       "    </tr>\n",
       "    <tr>\n",
       "      <th>4</th>\n",
       "      <td>26436</td>\n",
       "      <td>150.73218</td>\n",
       "      <td>1.62422</td>\n",
       "      <td>0.16</td>\n",
       "      <td>23.7084</td>\n",
       "      <td>1</td>\n",
       "      <td>24.9316</td>\n",
       "      <td>24.5043</td>\n",
       "      <td>24.0938</td>\n",
       "      <td>24.5801</td>\n",
       "      <td>23.8355</td>\n",
       "      <td>23.9121</td>\n",
       "      <td>0.0424</td>\n",
       "      <td>23.5610</td>\n",
       "      <td>22.0594</td>\n",
       "      <td>23.8575</td>\n",
       "      <td>0.34</td>\n",
       "    </tr>\n",
       "  </tbody>\n",
       "</table>\n",
       "</div>"
      ],
      "text/plain": [
       "   COSMOS    RAJ2000  DEJ2000  istar    imagA  n_imagA     umag     Bmag  \\\n",
       "0   26429  150.74847  1.62620   0.40  24.1249        1  25.4934  24.9912   \n",
       "1   26430  150.78005  1.62618   0.14  23.7194        1  25.0668  24.5890   \n",
       "2   26431  150.79328  1.62584   0.80  23.5582        1  25.1767  24.6644   \n",
       "3   26433  150.73299  1.62607   0.60  24.8256        1  25.1141  24.8163   \n",
       "4   26436  150.73218  1.62422   0.16  23.7084        1  24.9316  24.5043   \n",
       "\n",
       "      Vmag     gmag     rmag     imag  e_imag     zmag     Kmag    NB816  \\\n",
       "0  24.9563  25.2105  24.7035  24.2957  0.0540  23.5802  23.1113  24.2467   \n",
       "1  24.6187  24.8700  24.4337  24.0031  0.0446  23.4544  22.9926  23.9513   \n",
       "2  24.1307  24.6667  23.9864  23.6708  0.0364  23.2240  22.4682  23.5978   \n",
       "3  24.7607  24.7935  24.9016  24.7355  0.0738  24.3860   0.0000  24.6030   \n",
       "4  24.0938  24.5801  23.8355  23.9121  0.0424  23.5610  22.0594  23.8575   \n",
       "\n",
       "   zphot  \n",
       "0   1.34  \n",
       "1   0.76  \n",
       "2   0.40  \n",
       "3   0.01  \n",
       "4   0.34  "
      ]
     },
     "execution_count": 32,
     "metadata": {},
     "output_type": "execute_result"
    }
   ],
   "source": [
    "df = pd.DataFrame(fits_data2[1].data)\n",
    "df.head()"
   ]
  },
  {
   "cell_type": "code",
   "execution_count": null,
   "metadata": {
    "collapsed": true
   },
   "outputs": [],
   "source": []
  },
  {
   "cell_type": "code",
   "execution_count": null,
   "metadata": {
    "collapsed": true
   },
   "outputs": [],
   "source": []
  },
  {
   "cell_type": "code",
   "execution_count": 22,
   "metadata": {},
   "outputs": [
    {
     "name": "stdout",
     "output_type": "stream",
     "text": [
      "0    845680\n",
      "1    824999\n",
      "2    818595\n",
      "3    848265\n",
      "4    825318\n",
      "5    846003\n",
      "6    819527\n",
      "7    818027\n",
      "8    818065\n",
      "9    811072\n",
      "Name: zCOSMOS, dtype: object\n",
      "    angDist   _RAJ2000 _DEJ2000   COSMOS    RAJ2000  DEJ2000 istar    imagA  \\\n",
      "1  0.149643  150.06939  2.27186  1603077  150.06939  2.27186  0.02  20.0348   \n",
      "\n",
      "  n_imagA     Bmag ...  zphot    _RAJ2000  _DEJ2000 zCOSMOS     RAJ2000  \\\n",
      "1       1  22.1842 ...   0.22  150.069427  2.271879  824999  150.069427   \n",
      "\n",
      "    DEJ2000       z CClass   Imag Mask  \n",
      "1  2.271879  0.2164    4.5  21.32    1  \n",
      "\n",
      "[1 rows x 25 columns]\n"
     ]
    },
    {
     "data": {
      "text/html": [
       "<div>\n",
       "<style>\n",
       "    .dataframe thead tr:only-child th {\n",
       "        text-align: right;\n",
       "    }\n",
       "\n",
       "    .dataframe thead th {\n",
       "        text-align: left;\n",
       "    }\n",
       "\n",
       "    .dataframe tbody tr th {\n",
       "        vertical-align: top;\n",
       "    }\n",
       "</style>\n",
       "<table border=\"1\" class=\"dataframe\">\n",
       "  <thead>\n",
       "    <tr style=\"text-align: right;\">\n",
       "      <th></th>\n",
       "      <th>zCOSMOS</th>\n",
       "      <th>COSMOS</th>\n",
       "    </tr>\n",
       "  </thead>\n",
       "  <tbody>\n",
       "    <tr>\n",
       "      <th>0</th>\n",
       "      <td>845680</td>\n",
       "      <td>2710778</td>\n",
       "    </tr>\n",
       "    <tr>\n",
       "      <th>1</th>\n",
       "      <td>824999</td>\n",
       "      <td>1603077</td>\n",
       "    </tr>\n",
       "    <tr>\n",
       "      <th>2</th>\n",
       "      <td>818595</td>\n",
       "      <td>1242468</td>\n",
       "    </tr>\n",
       "    <tr>\n",
       "      <th>3</th>\n",
       "      <td>848265</td>\n",
       "      <td>2833286</td>\n",
       "    </tr>\n",
       "    <tr>\n",
       "      <th>4</th>\n",
       "      <td>825318</td>\n",
       "      <td>1671285</td>\n",
       "    </tr>\n",
       "    <tr>\n",
       "      <th>5</th>\n",
       "      <td>846003</td>\n",
       "      <td>2710822</td>\n",
       "    </tr>\n",
       "    <tr>\n",
       "      <th>6</th>\n",
       "      <td>819527</td>\n",
       "      <td>1320926</td>\n",
       "    </tr>\n",
       "    <tr>\n",
       "      <th>7</th>\n",
       "      <td>818027</td>\n",
       "      <td>1242516</td>\n",
       "    </tr>\n",
       "    <tr>\n",
       "      <th>8</th>\n",
       "      <td>818065</td>\n",
       "      <td>1242517</td>\n",
       "    </tr>\n",
       "    <tr>\n",
       "      <th>9</th>\n",
       "      <td>811072</td>\n",
       "      <td>879829</td>\n",
       "    </tr>\n",
       "    <tr>\n",
       "      <th>10</th>\n",
       "      <td>825868</td>\n",
       "      <td>1671315</td>\n",
       "    </tr>\n",
       "    <tr>\n",
       "      <th>11</th>\n",
       "      <td>840536</td>\n",
       "      <td>2422138</td>\n",
       "    </tr>\n",
       "    <tr>\n",
       "      <th>12</th>\n",
       "      <td>819821</td>\n",
       "      <td>1320983</td>\n",
       "    </tr>\n",
       "    <tr>\n",
       "      <th>13</th>\n",
       "      <td>839239</td>\n",
       "      <td>2386876</td>\n",
       "    </tr>\n",
       "    <tr>\n",
       "      <th>14</th>\n",
       "      <td>819787</td>\n",
       "      <td>1321040</td>\n",
       "    </tr>\n",
       "    <tr>\n",
       "      <th>15</th>\n",
       "      <td>845205</td>\n",
       "      <td>2659200</td>\n",
       "    </tr>\n",
       "    <tr>\n",
       "      <th>16</th>\n",
       "      <td>818232</td>\n",
       "      <td>1242617</td>\n",
       "    </tr>\n",
       "    <tr>\n",
       "      <th>17</th>\n",
       "      <td>839596</td>\n",
       "      <td>2386933</td>\n",
       "    </tr>\n",
       "    <tr>\n",
       "      <th>18</th>\n",
       "      <td>839601</td>\n",
       "      <td>2386934</td>\n",
       "    </tr>\n",
       "    <tr>\n",
       "      <th>19</th>\n",
       "      <td>850346</td>\n",
       "      <td>3017672</td>\n",
       "    </tr>\n",
       "    <tr>\n",
       "      <th>20</th>\n",
       "      <td>824838</td>\n",
       "      <td>1603236</td>\n",
       "    </tr>\n",
       "    <tr>\n",
       "      <th>21</th>\n",
       "      <td>846209</td>\n",
       "      <td>2711007</td>\n",
       "    </tr>\n",
       "    <tr>\n",
       "      <th>22</th>\n",
       "      <td>812504</td>\n",
       "      <td>956632</td>\n",
       "    </tr>\n",
       "    <tr>\n",
       "      <th>23</th>\n",
       "      <td>846145</td>\n",
       "      <td>2711022</td>\n",
       "    </tr>\n",
       "    <tr>\n",
       "      <th>24</th>\n",
       "      <td>840568</td>\n",
       "      <td>2422268</td>\n",
       "    </tr>\n",
       "    <tr>\n",
       "      <th>25</th>\n",
       "      <td>845117</td>\n",
       "      <td>2659237</td>\n",
       "    </tr>\n",
       "    <tr>\n",
       "      <th>26</th>\n",
       "      <td>846017</td>\n",
       "      <td>2711046</td>\n",
       "    </tr>\n",
       "    <tr>\n",
       "      <th>27</th>\n",
       "      <td>846018</td>\n",
       "      <td>2711047</td>\n",
       "    </tr>\n",
       "    <tr>\n",
       "      <th>28</th>\n",
       "      <td>847884</td>\n",
       "      <td>2833726</td>\n",
       "    </tr>\n",
       "    <tr>\n",
       "      <th>29</th>\n",
       "      <td>812542</td>\n",
       "      <td>956660</td>\n",
       "    </tr>\n",
       "    <tr>\n",
       "      <th>...</th>\n",
       "      <td>...</td>\n",
       "      <td>...</td>\n",
       "    </tr>\n",
       "    <tr>\n",
       "      <th>10734</th>\n",
       "      <td>817535</td>\n",
       "      <td>1206475</td>\n",
       "    </tr>\n",
       "    <tr>\n",
       "      <th>10735</th>\n",
       "      <td>833307</td>\n",
       "      <td>2045170</td>\n",
       "    </tr>\n",
       "    <tr>\n",
       "      <th>10736</th>\n",
       "      <td>828669</td>\n",
       "      <td>1854996</td>\n",
       "    </tr>\n",
       "    <tr>\n",
       "      <th>10737</th>\n",
       "      <td>700632</td>\n",
       "      <td>1277017</td>\n",
       "    </tr>\n",
       "    <tr>\n",
       "      <th>10738</th>\n",
       "      <td>819286</td>\n",
       "      <td>1277018</td>\n",
       "    </tr>\n",
       "    <tr>\n",
       "      <th>10739</th>\n",
       "      <td>826178</td>\n",
       "      <td>1701435</td>\n",
       "    </tr>\n",
       "    <tr>\n",
       "      <th>10740</th>\n",
       "      <td>814715</td>\n",
       "      <td>1058345</td>\n",
       "    </tr>\n",
       "    <tr>\n",
       "      <th>10741</th>\n",
       "      <td>819735</td>\n",
       "      <td>1349010</td>\n",
       "    </tr>\n",
       "    <tr>\n",
       "      <th>10742</th>\n",
       "      <td>819735</td>\n",
       "      <td>1349011</td>\n",
       "    </tr>\n",
       "    <tr>\n",
       "      <th>10743</th>\n",
       "      <td>813608</td>\n",
       "      <td>983853</td>\n",
       "    </tr>\n",
       "    <tr>\n",
       "      <th>10744</th>\n",
       "      <td>847400</td>\n",
       "      <td>2786019</td>\n",
       "    </tr>\n",
       "    <tr>\n",
       "      <th>10745</th>\n",
       "      <td>847397</td>\n",
       "      <td>2786020</td>\n",
       "    </tr>\n",
       "    <tr>\n",
       "      <th>10746</th>\n",
       "      <td>813270</td>\n",
       "      <td>983863</td>\n",
       "    </tr>\n",
       "    <tr>\n",
       "      <th>10747</th>\n",
       "      <td>833807</td>\n",
       "      <td>2109581</td>\n",
       "    </tr>\n",
       "    <tr>\n",
       "      <th>10748</th>\n",
       "      <td>823797</td>\n",
       "      <td>1564195</td>\n",
       "    </tr>\n",
       "    <tr>\n",
       "      <th>10749</th>\n",
       "      <td>833508</td>\n",
       "      <td>2045276</td>\n",
       "    </tr>\n",
       "    <tr>\n",
       "      <th>10750</th>\n",
       "      <td>823797</td>\n",
       "      <td>1564196</td>\n",
       "    </tr>\n",
       "    <tr>\n",
       "      <th>10751</th>\n",
       "      <td>819240</td>\n",
       "      <td>1277153</td>\n",
       "    </tr>\n",
       "    <tr>\n",
       "      <th>10752</th>\n",
       "      <td>827939</td>\n",
       "      <td>1764905</td>\n",
       "    </tr>\n",
       "    <tr>\n",
       "      <th>10753</th>\n",
       "      <td>824066</td>\n",
       "      <td>1564201</td>\n",
       "    </tr>\n",
       "    <tr>\n",
       "      <th>10754</th>\n",
       "      <td>831237</td>\n",
       "      <td>1973935</td>\n",
       "    </tr>\n",
       "    <tr>\n",
       "      <th>10755</th>\n",
       "      <td>817834</td>\n",
       "      <td>1206591</td>\n",
       "    </tr>\n",
       "    <tr>\n",
       "      <th>10756</th>\n",
       "      <td>814439</td>\n",
       "      <td>1058507</td>\n",
       "    </tr>\n",
       "    <tr>\n",
       "      <th>10757</th>\n",
       "      <td>847486</td>\n",
       "      <td>2786150</td>\n",
       "    </tr>\n",
       "    <tr>\n",
       "      <th>10758</th>\n",
       "      <td>817616</td>\n",
       "      <td>1206610</td>\n",
       "    </tr>\n",
       "    <tr>\n",
       "      <th>10759</th>\n",
       "      <td>819961</td>\n",
       "      <td>1349241</td>\n",
       "    </tr>\n",
       "    <tr>\n",
       "      <th>10760</th>\n",
       "      <td>819027</td>\n",
       "      <td>1277213</td>\n",
       "    </tr>\n",
       "    <tr>\n",
       "      <th>10761</th>\n",
       "      <td>833510</td>\n",
       "      <td>2045385</td>\n",
       "    </tr>\n",
       "    <tr>\n",
       "      <th>10762</th>\n",
       "      <td>845625</td>\n",
       "      <td>2677998</td>\n",
       "    </tr>\n",
       "    <tr>\n",
       "      <th>10763</th>\n",
       "      <td>817590</td>\n",
       "      <td>1206660</td>\n",
       "    </tr>\n",
       "  </tbody>\n",
       "</table>\n",
       "<p>10764 rows × 2 columns</p>\n",
       "</div>"
      ],
      "text/plain": [
       "       zCOSMOS   COSMOS\n",
       "0       845680  2710778\n",
       "1       824999  1603077\n",
       "2       818595  1242468\n",
       "3       848265  2833286\n",
       "4       825318  1671285\n",
       "5       846003  2710822\n",
       "6       819527  1320926\n",
       "7       818027  1242516\n",
       "8       818065  1242517\n",
       "9       811072   879829\n",
       "10      825868  1671315\n",
       "11      840536  2422138\n",
       "12      819821  1320983\n",
       "13      839239  2386876\n",
       "14      819787  1321040\n",
       "15      845205  2659200\n",
       "16      818232  1242617\n",
       "17      839596  2386933\n",
       "18      839601  2386934\n",
       "19      850346  3017672\n",
       "20      824838  1603236\n",
       "21      846209  2711007\n",
       "22      812504   956632\n",
       "23      846145  2711022\n",
       "24      840568  2422268\n",
       "25      845117  2659237\n",
       "26      846017  2711046\n",
       "27      846018  2711047\n",
       "28      847884  2833726\n",
       "29      812542   956660\n",
       "...        ...      ...\n",
       "10734   817535  1206475\n",
       "10735   833307  2045170\n",
       "10736   828669  1854996\n",
       "10737   700632  1277017\n",
       "10738   819286  1277018\n",
       "10739   826178  1701435\n",
       "10740   814715  1058345\n",
       "10741   819735  1349010\n",
       "10742   819735  1349011\n",
       "10743   813608   983853\n",
       "10744   847400  2786019\n",
       "10745   847397  2786020\n",
       "10746   813270   983863\n",
       "10747   833807  2109581\n",
       "10748   823797  1564195\n",
       "10749   833508  2045276\n",
       "10750   823797  1564196\n",
       "10751   819240  1277153\n",
       "10752   827939  1764905\n",
       "10753   824066  1564201\n",
       "10754   831237  1973935\n",
       "10755   817834  1206591\n",
       "10756   814439  1058507\n",
       "10757   847486  2786150\n",
       "10758   817616  1206610\n",
       "10759   819961  1349241\n",
       "10760   819027  1277213\n",
       "10761   833510  2045385\n",
       "10762   845625  2677998\n",
       "10763   817590  1206660\n",
       "\n",
       "[10764 rows x 2 columns]"
      ]
     },
     "execution_count": 22,
     "metadata": {},
     "output_type": "execute_result"
    }
   ],
   "source": [
    "with open('cross_match2.csv', 'r') as csvfile:\n",
    "    csvreader = csv.reader(csvfile)\n",
    "    all_lines = (line for line in csvreader)\n",
    "    col_names = next(all_lines)\n",
    "    n_cols = len(col_names)\n",
    "    col_inds = range(n_cols)\n",
    "    xmatch_data = [[pair[k] for k in col_inds] for pair in all_lines]\n",
    "test_data = pd.DataFrame(xmatch_data, columns=col_names)\n",
    "print(test_data['zCOSMOS'][:10])\n",
    "print(test_data[1:2])\n",
    "test_data[['zCOSMOS', 'COSMOS']].astype(int)"
   ]
  },
  {
   "cell_type": "code",
   "execution_count": 23,
   "metadata": {},
   "outputs": [
    {
     "data": {
      "image/png": "[encoded data removed]",
      "text/plain": [
       "<matplotlib.figure.Figure at 0x1073f9828>"
      ]
     },
     "metadata": {},
     "output_type": "display_data"
    },
    {
     "data": {
      "image/png": "[encoded data removed]",
      "text/plain": [
       "<matplotlib.figure.Figure at 0x112301588>"
      ]
     },
     "metadata": {},
     "output_type": "display_data"
    }
   ],
   "source": [
    "for i in Useful_columns_zcosmos_data:\n",
    "    plt.hist(ZCosmos[i], color='blue', linewidth=5)\n",
    "    plt.xlim(0, 30)\n",
    "    plt.xlabel(i)\n",
    "    plt.ylabel(\"Number\")\n",
    "    plt.title(\"ZCosmos\" + \" \" + i)\n",
    "    plt.savefig(\"ZCosmos\" + \" \" + i + \" \" + \"Plot.png\")\n",
    "    plt.show()"
   ]
  },
  {
   "cell_type": "code",
   "execution_count": 24,
   "metadata": {
    "scrolled": true
   },
   "outputs": [
    {
     "data": {
      "image/png": "[encoded data removed]",
      "text/plain": [
       "<matplotlib.figure.Figure at 0x10730dcc0>"
      ]
     },
     "metadata": {},
     "output_type": "display_data"
    },
    {
     "data": {
      "image/png": "[encoded data removed]",
      "text/plain": [
       "<matplotlib.figure.Figure at 0x11248bf28>"
      ]
     },
     "metadata": {},
     "output_type": "display_data"
    },
    {
     "data": {
      "image/png": "[encoded data removed]",
      "text/plain": [
       "<matplotlib.figure.Figure at 0x112572b70>"
      ]
     },
     "metadata": {},
     "output_type": "display_data"
    },
    {
     "data": {
      "image/png": "[encoded data removed]",
      "text/plain": [
       "<matplotlib.figure.Figure at 0x112599da0>"
      ]
     },
     "metadata": {},
     "output_type": "display_data"
    },
    {
     "data": {
      "image/png": "[encoded data removed]",
      "text/plain": [
       "<matplotlib.figure.Figure at 0x112435b00>"
      ]
     },
     "metadata": {},
     "output_type": "display_data"
    },
    {
     "data": {
      "image/png": "[encoded data removed]",
      "text/plain": [
       "<matplotlib.figure.Figure at 0x11265ab38>"
      ]
     },
     "metadata": {},
     "output_type": "display_data"
    },
    {
     "data": {
      "image/png": "[encoded data removed]",
      "text/plain": [
       "<matplotlib.figure.Figure at 0x112a672b0>"
      ]
     },
     "metadata": {},
     "output_type": "display_data"
    },
    {
     "data": {
      "image/png": "[encoded data removed]",
      "text/plain": [
       "<matplotlib.figure.Figure at 0x104b497f0>"
      ]
     },
     "metadata": {},
     "output_type": "display_data"
    },
    {
     "data": {
      "image/png": "[encoded data removed]",
      "text/plain": [
       "<matplotlib.figure.Figure at 0x112b92588>"
      ]
     },
     "metadata": {},
     "output_type": "display_data"
    },
    {
     "data": {
      "image/png": "[encoded data removed]",
      "text/plain": [
       "<matplotlib.figure.Figure at 0x112cd98d0>"
      ]
     },
     "metadata": {},
     "output_type": "display_data"
    },
    {
     "data": {
      "image/png": "[encoded data removed]",
      "text/plain": [
       "<matplotlib.figure.Figure at 0x112979fd0>"
      ]
     },
     "metadata": {},
     "output_type": "display_data"
    }
   ],
   "source": [
    "for i in Useful_columns_cosmos_data:\n",
    "    import matplotlib.pyplot as plt\n",
    "    plt.hist(Cosmos[i], color='blue', linewidth=5, bins=100)\n",
    "    plt.xlim(0, 30)\n",
    "    plt.xlabel(i)\n",
    "    plt.ylabel(\"Number\")\n",
    "    plt.title(\"Cosmos\" + \" \" + i)\n",
    "    plt.savefig(\"Cosmos\" + \" \" + i + \" \" + \"Plot.png\")\n",
    "    plt.show()"
   ]
  },
  {
   "cell_type": "code",
   "execution_count": 25,
   "metadata": {
    "collapsed": true
   },
   "outputs": [],
   "source": [
    "Cosmos_indices = [1,4,5,6,8]\n",
    "Cosmos_bands = [Useful_columns_cosmos_data[index] for index in Cosmos_indices]\n",
    "\n",
    "color = np.empty((4, len(Cosmos)))\n",
    "for b in range(len(Cosmos_indices)-1):\n",
    "    color[b] = np.array(Cosmos[Cosmos_bands[b]])-np.array(Cosmos[Cosmos_bands[b+1]])\n",
    "    "
   ]
  },
  {
   "cell_type": "code",
   "execution_count": 26,
   "metadata": {
    "scrolled": true
   },
   "outputs": [
    {
     "data": {
      "image/png": "[encoded data removed]",
      "text/plain": [
       "<matplotlib.figure.Figure at 0x1129235f8>"
      ]
     },
     "metadata": {},
     "output_type": "display_data"
    },
    {
     "data": {
      "image/png": "[encoded data removed]",
      "text/plain": [
       "<matplotlib.figure.Figure at 0x1124452e8>"
      ]
     },
     "metadata": {},
     "output_type": "display_data"
    },
    {
     "data": {
      "image/png": "[encoded data removed]",
      "text/plain": [
       "<matplotlib.figure.Figure at 0x11251c5f8>"
      ]
     },
     "metadata": {},
     "output_type": "display_data"
    },
    {
     "data": {
      "image/png": "[encoded data removed]",
      "text/plain": [
       "<matplotlib.figure.Figure at 0x113273a20>"
      ]
     },
     "metadata": {},
     "output_type": "display_data"
    }
   ],
   "source": [
    "for i in range(len(Cosmos_bands)-1):\n",
    "    import matplotlib.pyplot as plt\n",
    "    plt.hist(color[i], color='blue', linewidth=5, bins=500)\n",
    "    plt.xlim(-5, 5)\n",
    "    plt.xlabel(i)\n",
    "    plt.ylabel(\"Number\")\n",
    "    plt.title(\"Cosmos\" + \" \" + str(i))\n",
    "    plt.savefig(\"Cosmos\" + \" \" + str(i) + \" \" + \"Plot.png\")\n",
    "    plt.show()"
   ]
  },
  {
   "cell_type": "code",
   "execution_count": 27,
   "metadata": {},
   "outputs": [
    {
     "ename": "NameError",
     "evalue": "name 'bands' is not defined",
     "output_type": "error",
     "traceback": [
      "\u001b[0;31m---------------------------------------------------------------------------\u001b[0m",
      "\u001b[0;31mNameError\u001b[0m                                 Traceback (most recent call last)",
      "\u001b[0;32m<ipython-input-27-21c79416d3e9>\u001b[0m in \u001b[0;36m<module>\u001b[0;34m()\u001b[0m\n\u001b[0;32m----> 1\u001b[0;31m \u001b[0;32mfor\u001b[0m \u001b[0mi\u001b[0m \u001b[0;32min\u001b[0m \u001b[0mrange\u001b[0m\u001b[0;34m(\u001b[0m\u001b[0mlen\u001b[0m\u001b[0;34m(\u001b[0m\u001b[0mbands\u001b[0m\u001b[0;34m)\u001b[0m\u001b[0;34m-\u001b[0m\u001b[0;36m2\u001b[0m\u001b[0;34m)\u001b[0m\u001b[0;34m:\u001b[0m\u001b[0;34m\u001b[0m\u001b[0m\n\u001b[0m\u001b[1;32m      2\u001b[0m     \u001b[0mplt\u001b[0m\u001b[0;34m.\u001b[0m\u001b[0mscatter\u001b[0m\u001b[0;34m(\u001b[0m\u001b[0mcolor\u001b[0m\u001b[0;34m[\u001b[0m\u001b[0mi\u001b[0m\u001b[0;34m]\u001b[0m\u001b[0;34m,\u001b[0m \u001b[0mcolor\u001b[0m\u001b[0;34m[\u001b[0m\u001b[0mi\u001b[0m\u001b[0;34m+\u001b[0m\u001b[0;36m1\u001b[0m\u001b[0;34m]\u001b[0m\u001b[0;34m,\u001b[0m \u001b[0ms\u001b[0m\u001b[0;34m=\u001b[0m\u001b[0;36m1\u001b[0m\u001b[0;34m,\u001b[0m \u001b[0malpha\u001b[0m\u001b[0;34m=\u001b[0m\u001b[0;36m0.1\u001b[0m\u001b[0;34m)\u001b[0m\u001b[0;34m\u001b[0m\u001b[0m\n\u001b[1;32m      3\u001b[0m     \u001b[0mplt\u001b[0m\u001b[0;34m.\u001b[0m\u001b[0mxlim\u001b[0m\u001b[0;34m(\u001b[0m\u001b[0;34m-\u001b[0m\u001b[0;36m5\u001b[0m\u001b[0;34m,\u001b[0m\u001b[0;36m5\u001b[0m\u001b[0;34m)\u001b[0m\u001b[0;34m\u001b[0m\u001b[0m\n\u001b[1;32m      4\u001b[0m     \u001b[0mplt\u001b[0m\u001b[0;34m.\u001b[0m\u001b[0mylim\u001b[0m\u001b[0;34m(\u001b[0m\u001b[0;34m-\u001b[0m\u001b[0;36m5\u001b[0m\u001b[0;34m,\u001b[0m\u001b[0;36m5\u001b[0m\u001b[0;34m)\u001b[0m\u001b[0;34m\u001b[0m\u001b[0m\n\u001b[1;32m      5\u001b[0m     \u001b[0mplt\u001b[0m\u001b[0;34m.\u001b[0m\u001b[0mshow\u001b[0m\u001b[0;34m(\u001b[0m\u001b[0;34m)\u001b[0m\u001b[0;34m\u001b[0m\u001b[0m\n",
      "\u001b[0;31mNameError\u001b[0m: name 'bands' is not defined"
     ]
    }
   ],
   "source": [
    "for i in range(len(bands)-2):\n",
    "    plt.scatter(color[i], color[i+1], s=1, alpha=0.1)\n",
    "    plt.xlim(-5,5)\n",
    "    plt.ylim(-5,5)\n",
    "    plt.show()"
   ]
  },
  {
   "cell_type": "code",
   "execution_count": null,
   "metadata": {
    "collapsed": true
   },
   "outputs": [],
   "source": [
    "for i in range(len(bands)-1):\n",
    "    plt.scatter(Cosmos_redshift, color[i], s=1, alpha=0.1)\n",
    "    plt.xlim(0,3)\n",
    "    plt.ylim(-5,5)\n",
    "    plt.show()"
   ]
  },
  {
   "cell_type": "code",
   "execution_count": null,
   "metadata": {
    "collapsed": true
   },
   "outputs": [],
   "source": []
  },
  {
   "cell_type": "code",
   "execution_count": null,
   "metadata": {
    "collapsed": true
   },
   "outputs": [],
   "source": []
  },
  {
   "cell_type": "code",
   "execution_count": null,
   "metadata": {
    "collapsed": true
   },
   "outputs": [],
   "source": [
    "ZCosmos_indices = [0,1]\n",
    "ZCosmos_bands = [Useful_columns_zcosmos_data[index] for index in ZCosmos_indices]\n",
    "\n",
    "color = np.empty((2, len(ZCosmos)))\n",
    "for b in range(len(ZCosmos_indices)-1):\n",
    "    color[b] = np.array(ZCosmos[ZCosmos_bands[b]])-np.array(ZCosmos[ZCosmos_bands[b+1]])"
   ]
  },
  {
   "cell_type": "code",
   "execution_count": null,
   "metadata": {
    "collapsed": true
   },
   "outputs": [],
   "source": [
    "for i in range(len(ZCosmos_bands)-1):\n",
    "    import matplotlib.pyplot as plt\n",
    "    plt.hist(color[i], color='blue', linewidth=5, bins=500)\n",
    "    plt.xlim(-5, 5)\n",
    "    plt.xlabel(i)\n",
    "    plt.ylabel(\"Number\")\n",
    "    plt.title(\"ZCosmos\" + \" \" + str(i))\n",
    "    plt.savefig(\"ZCosmos\" + \" \" + str(i) + \" \" + \"Plot.png\")\n",
    "    plt.show()"
   ]
  },
  {
   "cell_type": "code",
   "execution_count": null,
   "metadata": {
    "collapsed": true
   },
   "outputs": [],
   "source": [
    "for i in range(len(ZCosmos_bands)-2):\n",
    "    plt.scatter(color[i], color[i+1], s=1, alpha=0.1)\n",
    "    plt.xlim(-5,5)\n",
    "    plt.ylim(-5,5)\n",
    "    plt.show()"
   ]
  },
  {
   "cell_type": "code",
   "execution_count": null,
   "metadata": {
    "collapsed": true
   },
   "outputs": [],
   "source": [
    "for i in range(len(ZCosmos_bands)-1):\n",
    "    plt.scatter(ZCosmos_redshift, color[i], s=1, alpha=0.1)\n",
    "    plt.xlim(0,3)\n",
    "    plt.ylim(-5,5)\n",
    "    plt.show()"
   ]
  }
 ],
 "metadata": {
  "kernelspec": {
   "display_name": "Python 3",
   "language": "python",
   "name": "python3"
  },
  "language_info": {
   "codemirror_mode": {
    "name": "ipython",
    "version": 3
   },
   "file_extension": ".py",
   "mimetype": "text/x-python",
   "name": "python",
   "nbconvert_exporter": "python",
   "pygments_lexer": "ipython3",
   "version": "3.6.3"
  }
 },
 "nbformat": 4,
 "nbformat_minor": 2
}
