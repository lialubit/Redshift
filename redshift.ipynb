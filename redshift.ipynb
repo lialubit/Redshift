{
 "cells": [
  {
   "cell_type": "code",
   "execution_count": null,
   "metadata": {
    "collapsed": true
   },
   "outputs": [],
   "source": [
    "import astropy\n",
    "from astropy import io\n",
    "from astropy.io import fits\n",
    "import csv\n",
    "import pandas as pd\n",
    "import numpy as np\n",
    "import matplotlib.pyplot as plt"
   ]
  },
  {
   "cell_type": "code",
   "execution_count": null,
   "metadata": {
    "collapsed": true
   },
   "outputs": [],
   "source": [
    "fits_data = astropy.io.fits.open('asu.fit')\n",
    "ZCosmos = fits_data[1].data"
   ]
  },
  {
   "cell_type": "code",
   "execution_count": null,
   "metadata": {},
   "outputs": [],
   "source": [
    "name_info = fits_data[1].columns\n",
    "print([i.name for i in name_info])\n",
    "ZCosmos_names = [i.name for i in name_info]"
   ]
  },
  {
   "cell_type": "code",
   "execution_count": null,
   "metadata": {
    "collapsed": true
   },
   "outputs": [],
   "source": [
    "Useful_columns_zcosmos_data = [ZCosmos_names[3], ZCosmos_names[5]]"
   ]
  },
  {
   "cell_type": "code",
   "execution_count": null,
   "metadata": {},
   "outputs": [],
   "source": [
    "print(Useful_columns_zcosmos_data)"
   ]
  },
  {
   "cell_type": "code",
   "execution_count": null,
   "metadata": {},
   "outputs": [],
   "source": [
    "z = Useful_columns_zcosmos_data[0]\n",
    "ZCosmos_redshift = ZCosmos[z]\n",
    "print(ZCosmos_redshift)"
   ]
  },
  {
   "cell_type": "code",
   "execution_count": null,
   "metadata": {
    "collapsed": true
   },
   "outputs": [],
   "source": [
    "fits_data2 = astropy.io.fits.open('asu2.fit')\n",
    "Cosmos = fits_data2[1].data"
   ]
  },
  {
   "cell_type": "code",
   "execution_count": null,
   "metadata": {
    "scrolled": true
   },
   "outputs": [],
   "source": [
    "name_info2 = fits_data2[1].columns\n",
    "print([i.name for i in name_info2])\n",
    "Cosmos_names = [i.name for i in name_info2]"
   ]
  },
  {
   "cell_type": "code",
   "execution_count": null,
   "metadata": {},
   "outputs": [],
   "source": [
    "Useful_columns_cosmos_range = list(range(5, 15)) + [16]\n",
    "Useful_columns_cosmos_data = [Cosmos_names[i] for i in Useful_columns_cosmos_range]\n",
    "print(Useful_columns_cosmos_data)"
   ]
  },
  {
   "cell_type": "code",
   "execution_count": null,
   "metadata": {},
   "outputs": [],
   "source": [
    "Zphot = Useful_columns_cosmos_data[10]\n",
    "Cosmos_redshift = Cosmos[Zphot]\n",
    "print(Cosmos_redshift)"
   ]
  },
  {
   "cell_type": "code",
   "execution_count": null,
   "metadata": {
    "collapsed": true
   },
   "outputs": [],
   "source": []
  },
  {
   "cell_type": "code",
   "execution_count": null,
   "metadata": {
    "collapsed": true
   },
   "outputs": [],
   "source": []
  },
  {
   "cell_type": "code",
   "execution_count": null,
   "metadata": {},
   "outputs": [],
   "source": [
    "ZCosmos_df = pd.DataFrame(fits_data[1].data)\n",
    "ZCosmos_df.head()"
   ]
  },
  {
   "cell_type": "code",
   "execution_count": null,
   "metadata": {},
   "outputs": [],
   "source": [
    "ZCosmos_df_part2 = ZCosmos_df.query('z<999')\n",
    "ZCosmos_df_filtered = ZCosmos_df_part2.query('z>0.000')\n",
    "ZCosmos_df_filtered.head()"
   ]
  },
  {
   "cell_type": "code",
   "execution_count": null,
   "metadata": {
    "scrolled": true
   },
   "outputs": [],
   "source": [
    "Cosmos_df = pd.DataFrame(fits_data2[1].data)\n",
    "Cosmos_df.head()"
   ]
  },
  {
   "cell_type": "code",
   "execution_count": null,
   "metadata": {},
   "outputs": [],
   "source": [
    "Cosmos_df_part2 = Cosmos_df.query('zphot<999')\n",
    "Cosmos_df_filtered = Cosmos_df_part2.query('zphot>0.000')\n",
    "Cosmos_df_filtered.head()"
   ]
  },
  {
   "cell_type": "code",
   "execution_count": null,
   "metadata": {
    "collapsed": true
   },
   "outputs": [],
   "source": []
  },
  {
   "cell_type": "code",
   "execution_count": null,
   "metadata": {
    "collapsed": true
   },
   "outputs": [],
   "source": []
  },
  {
   "cell_type": "code",
   "execution_count": null,
   "metadata": {},
   "outputs": [],
   "source": [
    "with open('cross_match2.csv', 'r') as csvfile:\n",
    "    csvreader = csv.reader(csvfile)\n",
    "    all_lines = (line for line in csvreader)\n",
    "    col_names = next(all_lines)\n",
    "    n_cols = len(col_names)\n",
    "    col_inds = range(n_cols)\n",
    "    xmatch_data = [[pair[k] for k in col_inds] for pair in all_lines]\n",
    "test_data = pd.DataFrame(xmatch_data, columns=col_names)\n",
    "print(test_data['zCOSMOS'][:10])\n",
    "print(test_data[1:2])\n",
    "test_data[['zCOSMOS', 'COSMOS']].astype(int)"
   ]
  },
  {
   "cell_type": "code",
   "execution_count": null,
   "metadata": {},
   "outputs": [],
   "source": [
    "for i in Useful_columns_zcosmos_data:\n",
    "    plt.hist(ZCosmos[i], color='blue', linewidth=5)\n",
    "    plt.xlim(0, 30)\n",
    "    plt.xlabel(i)\n",
    "    plt.ylabel(\"Number\")\n",
    "    plt.title(\"ZCosmos\" + \" \" + i)\n",
    "    plt.savefig(\"ZCosmos\" + \" \" + i + \" \" + \"Plot.png\")\n",
    "    plt.show()"
   ]
  },
  {
   "cell_type": "code",
   "execution_count": null,
   "metadata": {
    "scrolled": true
   },
   "outputs": [],
   "source": [
    "for i in Useful_columns_cosmos_data:\n",
    "    import matplotlib.pyplot as plt\n",
    "    plt.hist(Cosmos[i], color='blue', linewidth=5, bins=100)\n",
    "    plt.xlim(0, 30)\n",
    "    plt.xlabel(i)\n",
    "    plt.ylabel(\"Number\")\n",
    "    plt.title(\"Cosmos\" + \" \" + i)\n",
    "    plt.savefig(\"Cosmos\" + \" \" + i + \" \" + \"Plot.png\")\n",
    "    plt.show()"
   ]
  },
  {
   "cell_type": "code",
   "execution_count": null,
   "metadata": {
    "collapsed": true
   },
   "outputs": [],
   "source": [
    "Cosmos_indices = [1,4,5,6,8]\n",
    "Cosmos_bands = [Useful_columns_cosmos_data[index] for index in Cosmos_indices]\n",
    "\n",
    "color = np.empty((4, len(Cosmos)))\n",
    "for b in range(len(Cosmos_indices)-1):\n",
    "    color[b] = np.array(Cosmos[Cosmos_bands[b]])-np.array(Cosmos[Cosmos_bands[b+1]])\n",
    "    "
   ]
  },
  {
   "cell_type": "code",
   "execution_count": null,
   "metadata": {
    "scrolled": true
   },
   "outputs": [],
   "source": [
    "for i in range(len(Cosmos_bands)-1):\n",
    "    import matplotlib.pyplot as plt\n",
    "    plt.hist(color[i], color='blue', linewidth=5, bins=500)\n",
    "    plt.xlim(-5, 5)\n",
    "    plt.xlabel(i)\n",
    "    plt.ylabel(\"Number\")\n",
    "    plt.title(\"Cosmos\" + \" \" + str(i))\n",
    "    plt.savefig(\"Cosmos\" + \" \" + str(i) + \" \" + \"Plot.png\")\n",
    "    plt.show()"
   ]
  },
  {
   "cell_type": "code",
   "execution_count": null,
   "metadata": {},
   "outputs": [],
   "source": [
    "for i in range(len(bands)-2):\n",
    "    plt.scatter(color[i], color[i+1], s=1, alpha=0.1)\n",
    "    plt.xlim(-5,5)\n",
    "    plt.ylim(-5,5)\n",
    "    plt.show()"
   ]
  },
  {
   "cell_type": "code",
   "execution_count": null,
   "metadata": {
    "collapsed": true
   },
   "outputs": [],
   "source": [
    "for i in range(len(bands)-1):\n",
    "    plt.scatter(Cosmos_redshift, color[i], s=1, alpha=0.1)\n",
    "    plt.xlim(0,3)\n",
    "    plt.ylim(-5,5)\n",
    "    plt.show()"
   ]
  },
  {
   "cell_type": "code",
   "execution_count": null,
   "metadata": {
    "collapsed": true
   },
   "outputs": [],
   "source": []
  },
  {
   "cell_type": "code",
   "execution_count": null,
   "metadata": {
    "collapsed": true
   },
   "outputs": [],
   "source": []
  },
  {
   "cell_type": "code",
   "execution_count": null,
   "metadata": {
    "collapsed": true
   },
   "outputs": [],
   "source": [
    "ZCosmos_indices = [0,1]\n",
    "ZCosmos_bands = [Useful_columns_zcosmos_data[index] for index in ZCosmos_indices]\n",
    "\n",
    "color = np.empty((2, len(ZCosmos)))\n",
    "for b in range(len(ZCosmos_indices)-1):\n",
    "    color[b] = np.array(ZCosmos[ZCosmos_bands[b]])-np.array(ZCosmos[ZCosmos_bands[b+1]])"
   ]
  },
  {
   "cell_type": "code",
   "execution_count": null,
   "metadata": {
    "collapsed": true
   },
   "outputs": [],
   "source": [
    "for i in range(len(ZCosmos_bands)-1):\n",
    "    import matplotlib.pyplot as plt\n",
    "    plt.hist(color[i], color='blue', linewidth=5, bins=500)\n",
    "    plt.xlim(-5, 5)\n",
    "    plt.xlabel(i)\n",
    "    plt.ylabel(\"Number\")\n",
    "    plt.title(\"ZCosmos\" + \" \" + str(i))\n",
    "    plt.savefig(\"ZCosmos\" + \" \" + str(i) + \" \" + \"Plot.png\")\n",
    "    plt.show()"
   ]
  },
  {
   "cell_type": "code",
   "execution_count": null,
   "metadata": {
    "collapsed": true
   },
   "outputs": [],
   "source": [
    "for i in range(len(ZCosmos_bands)-2):\n",
    "    plt.scatter(color[i], color[i+1], s=1, alpha=0.1)\n",
    "    plt.xlim(-5,5)\n",
    "    plt.ylim(-5,5)\n",
    "    plt.show()"
   ]
  },
  {
   "cell_type": "code",
   "execution_count": null,
   "metadata": {
    "collapsed": true
   },
   "outputs": [],
   "source": [
    "for i in range(len(ZCosmos_bands)-1):\n",
    "    plt.scatter(ZCosmos_redshift, color[i], s=1, alpha=0.1)\n",
    "    plt.xlim(0,3)\n",
    "    plt.ylim(-5,5)\n",
    "    plt.show()"
   ]
  }
 ],
 "metadata": {
  "kernelspec": {
   "display_name": "Python 3",
   "language": "python",
   "name": "python3"
  },
  "language_info": {
   "codemirror_mode": {
    "name": "ipython",
    "version": 3
   },
   "file_extension": ".py",
   "mimetype": "text/x-python",
   "name": "python",
   "nbconvert_exporter": "python",
   "pygments_lexer": "ipython3",
   "version": "3.6.3"
  }
 },
 "nbformat": 4,
 "nbformat_minor": 2
}
