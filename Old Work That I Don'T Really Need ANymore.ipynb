{
 "cells": [
  {
   "cell_type": "code",
   "execution_count": null,
   "metadata": {
    "collapsed": true
   },
   "outputs": [],
   "source": [
    "for i in useful_columns_zcosmos_data:\n",
    "    plt.hist(zcosmos[i], color='blue', linewidth=5)\n",
    "    plt.xlim(0, 30)\n",
    "    plt.xlabel(i)\n",
    "    plt.ylabel(\"Number\")\n",
    "    plt.title(\"ZCosmos\" + \" \" + i)\n",
    "    plt.savefig(\"ZCosmos\" + \" \" + i + \" \" + \"Plot.png\")\n",
    "    plt.show()"
   ]
  },
  {
   "cell_type": "code",
   "execution_count": null,
   "metadata": {
    "collapsed": true
   },
   "outputs": [],
   "source": [
    "Cosmos_indices = [1,4,5,6,8]\n",
    "Cosmos_bands = [Useful_columns_cosmos_data[index] for index in Cosmos_indices]\n",
    "\n",
    "color = np.empty((4, len(Cosmos)))\n",
    "for b in range(len(Cosmos_indices)-1):\n",
    "    color[b] = np.array(Cosmos[Cosmos_bands[b]])-np.array(Cosmos[Cosmos_bands[b+1]])\n",
    "    "
   ]
  },
  {
   "cell_type": "code",
   "execution_count": null,
   "metadata": {
    "collapsed": true
   },
   "outputs": [],
   "source": [
    "for i in range(len(Cosmos_bands)-1):\n",
    "    import matplotlib.pyplot as plt\n",
    "    plt.hist(color[i], color='blue', linewidth=5, bins=500)\n",
    "    plt.xlim(-5, 5)\n",
    "    plt.xlabel(i)\n",
    "    plt.ylabel(\"Number\")\n",
    "    plt.title(\"Cosmos\" + \" \" + str(i))\n",
    "    plt.savefig(\"Cosmos\" + \" \" + str(i) + \" \" + \"Plot.png\")\n",
    "    plt.show()"
   ]
  },
  {
   "cell_type": "code",
   "execution_count": null,
   "metadata": {
    "collapsed": true
   },
   "outputs": [],
   "source": [
    "for i in range(len(bands)-2):\n",
    "    plt.scatter(color[i], color[i+1], s=1, alpha=0.1)\n",
    "    plt.xlim(-5,5)\n",
    "    plt.ylim(-5,5)\n",
    "    plt.show()"
   ]
  },
  {
   "cell_type": "code",
   "execution_count": null,
   "metadata": {
    "collapsed": true
   },
   "outputs": [],
   "source": [
    "for i in range(len(bands)-1):\n",
    "    plt.scatter(Cosmos_redshift, color[i], s=1, alpha=0.1)\n",
    "    plt.xlim(0,3)\n",
    "    plt.ylim(-5,5)\n",
    "    plt.show()"
   ]
  },
  {
   "cell_type": "code",
   "execution_count": null,
   "metadata": {
    "collapsed": true
   },
   "outputs": [],
   "source": [
    "ZCosmos_indices = [0,1]\n",
    "ZCosmos_bands = [Useful_columns_zcosmos_data[index] for index in ZCosmos_indices]\n",
    "\n",
    "color = np.empty((2, len(ZCosmos)))\n",
    "for b in range(len(ZCosmos_indices)-1):\n",
    "    color[b] = np.array(ZCosmos[ZCosmos_bands[b]])-np.array(ZCosmos[ZCosmos_bands[b+1]])"
   ]
  },
  {
   "cell_type": "code",
   "execution_count": null,
   "metadata": {
    "collapsed": true
   },
   "outputs": [],
   "source": [
    "for i in range(len(ZCosmos_bands)-1):\n",
    "    import matplotlib.pyplot as plt\n",
    "    plt.hist(color[i], color='blue', linewidth=5, bins=500)\n",
    "    plt.xlim(-5, 5)\n",
    "    plt.xlabel(i)\n",
    "    plt.ylabel(\"Number\")\n",
    "    plt.title(\"ZCosmos\" + \" \" + str(i))\n",
    "    plt.savefig(\"ZCosmos\" + \" \" + str(i) + \" \" + \"Plot.png\")\n",
    "    plt.show()"
   ]
  },
  {
   "cell_type": "code",
   "execution_count": null,
   "metadata": {
    "collapsed": true
   },
   "outputs": [],
   "source": [
    "for i in range(len(ZCosmos_bands)-2):\n",
    "    plt.scatter(color[i], color[i+1], s=1, alpha=0.1)\n",
    "    plt.xlim(-5,5)\n",
    "    plt.ylim(-5,5)\n",
    "    plt.show()"
   ]
  },
  {
   "cell_type": "code",
   "execution_count": null,
   "metadata": {
    "collapsed": true
   },
   "outputs": [],
   "source": [
    "for i in range(len(ZCosmos_bands)-1):\n",
    "    plt.scatter(ZCosmos_redshift, color[i], s=1, alpha=0.1)\n",
    "    plt.xlim(0,3)\n",
    "    plt.ylim(-5,5)\n",
    "    plt.show()"
   ]
  }
 ],
 "metadata": {
  "kernelspec": {
   "display_name": "Python 3",
   "language": "python",
   "name": "python3"
  },
  "language_info": {
   "codemirror_mode": {
    "name": "ipython",
    "version": 3
   },
   "file_extension": ".py",
   "mimetype": "text/x-python",
   "name": "python",
   "nbconvert_exporter": "python",
   "pygments_lexer": "ipython3",
   "version": "3.6.3"
  }
 },
 "nbformat": 4,
 "nbformat_minor": 2
}
