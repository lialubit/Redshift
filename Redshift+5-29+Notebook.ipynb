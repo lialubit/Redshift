{
 "cells": [
  {
   "cell_type": "code",
   "execution_count": 1,
   "metadata": {
    "collapsed": true
   },
   "outputs": [],
   "source": [
    "import numpy as np\n",
    "import pandas as pd\n",
    "import itertools\n",
    "import math \n",
    "import cmath\n",
    "from itertools import product"
   ]
  },
  {
   "cell_type": "code",
   "execution_count": 2,
   "metadata": {
    "collapsed": true
   },
   "outputs": [],
   "source": [
    "transmission_rate = [.7, .93, .94, .95, .96]\n",
    "np.savetxt('transmission_rate.txt', transmission_rate)"
   ]
  },
  {
   "cell_type": "code",
   "execution_count": 3,
   "metadata": {
    "collapsed": true
   },
   "outputs": [],
   "source": [
    "new_transmission_rate = np.genfromtxt(\"transmission_rate.txt\")"
   ]
  },
  {
   "cell_type": "code",
   "execution_count": 4,
   "metadata": {},
   "outputs": [
    {
     "name": "stdout",
     "output_type": "stream",
     "text": [
      "[ 0.7   0.93  0.94  0.95  0.96]\n"
     ]
    }
   ],
   "source": [
    "print(new_transmission_rate)"
   ]
  },
  {
   "cell_type": "code",
   "execution_count": 5,
   "metadata": {
    "scrolled": true
   },
   "outputs": [
    {
     "data": {
      "text/html": [
       "<div>\n",
       "<style>\n",
       "    .dataframe thead tr:only-child th {\n",
       "        text-align: right;\n",
       "    }\n",
       "\n",
       "    .dataframe thead th {\n",
       "        text-align: left;\n",
       "    }\n",
       "\n",
       "    .dataframe tbody tr th {\n",
       "        vertical-align: top;\n",
       "    }\n",
       "</style>\n",
       "<table border=\"1\" class=\"dataframe\">\n",
       "  <thead>\n",
       "    <tr style=\"text-align: right;\">\n",
       "      <th></th>\n",
       "      <th>Galaxy</th>\n",
       "      <th>Redshift</th>\n",
       "    </tr>\n",
       "  </thead>\n",
       "  <tbody>\n",
       "    <tr>\n",
       "      <th>0</th>\n",
       "      <td>Red</td>\n",
       "      <td>0.0</td>\n",
       "    </tr>\n",
       "    <tr>\n",
       "      <th>1</th>\n",
       "      <td>Red</td>\n",
       "      <td>0.5</td>\n",
       "    </tr>\n",
       "    <tr>\n",
       "      <th>2</th>\n",
       "      <td>Red</td>\n",
       "      <td>1.5</td>\n",
       "    </tr>\n",
       "    <tr>\n",
       "      <th>3</th>\n",
       "      <td>Blue</td>\n",
       "      <td>0.0</td>\n",
       "    </tr>\n",
       "    <tr>\n",
       "      <th>4</th>\n",
       "      <td>Blue</td>\n",
       "      <td>0.5</td>\n",
       "    </tr>\n",
       "    <tr>\n",
       "      <th>5</th>\n",
       "      <td>Blue</td>\n",
       "      <td>1.5</td>\n",
       "    </tr>\n",
       "  </tbody>\n",
       "</table>\n",
       "</div>"
      ],
      "text/plain": [
       "  Galaxy  Redshift\n",
       "0    Red       0.0\n",
       "1    Red       0.5\n",
       "2    Red       1.5\n",
       "3   Blue       0.0\n",
       "4   Blue       0.5\n",
       "5   Blue       1.5"
      ]
     },
     "execution_count": 5,
     "metadata": {},
     "output_type": "execute_result"
    }
   ],
   "source": [
    "# Blue, 0 \n",
    "# Umag: 4.996547735709 \n",
    "# Gmag: 4.3757386228391\n",
    "# Rmag: 4.6764732017454\n",
    "# Imag: 4.792865128641\n",
    "# Zmag: 4.7814960592642\n",
    "\n",
    "Galaxies_and_Redshifts = {'Galaxy': ['Red', 'Blue'], 'Redshift': [0, 0.5, 1.5]}\n",
    "Galaxies_and_Redshifts_List = list(itertools.product(Galaxies_and_Redshifts['Galaxy'], Galaxies_and_Redshifts['Redshift']))\n",
    "Galaxies_and_Redshifts_List_df = pd.DataFrame(data = Galaxies_and_Redshifts_List, columns = Galaxies_and_Redshifts.keys())\n",
    "# k = 0\n",
    "# for i in d['Galaxy']:\n",
    "#     k += 1\n",
    "#     for j in d['Redshift']:\n",
    "#         IntermediateThing[k][0] = i\n",
    "#         IntermediateThing[k][1] = j\n",
    "# df = pd.DataFrame(data=d)\n",
    "# df\n",
    "Galaxies_and_Redshifts_List_df"
   ]
  },
  {
   "cell_type": "code",
   "execution_count": 6,
   "metadata": {
    "collapsed": true
   },
   "outputs": [],
   "source": [
    "Galaxies_and_Redshifts_List_df['UltraViolet'] = pd.Series([.15, .0, .0, .45, .5, .7], index=Galaxies_and_Redshifts_List_df.index)"
   ]
  },
  {
   "cell_type": "code",
   "execution_count": 7,
   "metadata": {
    "collapsed": true
   },
   "outputs": [],
   "source": [
    "Galaxies_and_Redshifts_List_df['Green'] = pd.Series([.55, .1, .0, .6, .4, .5], index=Galaxies_and_Redshifts_List_df.index)"
   ]
  },
  {
   "cell_type": "code",
   "execution_count": 8,
   "metadata": {
    "collapsed": true
   },
   "outputs": [],
   "source": [
    "Galaxies_and_Redshifts_List_df['Red'] = pd.Series([.6, .1, .01, .45, .7, .45], index=Galaxies_and_Redshifts_List_df.index)"
   ]
  },
  {
   "cell_type": "code",
   "execution_count": 9,
   "metadata": {
    "collapsed": true
   },
   "outputs": [],
   "source": [
    "Galaxies_and_Redshifts_List_df['InfraRed'] = pd.Series([.75, .65, .075, .4, .6, .5], index=Galaxies_and_Redshifts_List_df.index)"
   ]
  },
  {
   "cell_type": "code",
   "execution_count": 10,
   "metadata": {
    "collapsed": true
   },
   "outputs": [],
   "source": [
    "Galaxies_and_Redshifts_List_df['Z'] = pd.Series([.75, .75, .65, .4, .55, .8], index=Galaxies_and_Redshifts_List_df.index)"
   ]
  },
  {
   "cell_type": "code",
   "execution_count": 11,
   "metadata": {
    "scrolled": false
   },
   "outputs": [
    {
     "data": {
      "text/html": [
       "<div>\n",
       "<style>\n",
       "    .dataframe thead tr:only-child th {\n",
       "        text-align: right;\n",
       "    }\n",
       "\n",
       "    .dataframe thead th {\n",
       "        text-align: left;\n",
       "    }\n",
       "\n",
       "    .dataframe tbody tr th {\n",
       "        vertical-align: top;\n",
       "    }\n",
       "</style>\n",
       "<table border=\"1\" class=\"dataframe\">\n",
       "  <thead>\n",
       "    <tr style=\"text-align: right;\">\n",
       "      <th></th>\n",
       "      <th>Galaxy</th>\n",
       "      <th>Redshift</th>\n",
       "      <th>UltraViolet</th>\n",
       "      <th>Green</th>\n",
       "      <th>Red</th>\n",
       "      <th>InfraRed</th>\n",
       "      <th>Z</th>\n",
       "    </tr>\n",
       "  </thead>\n",
       "  <tbody>\n",
       "    <tr>\n",
       "      <th>0</th>\n",
       "      <td>Red</td>\n",
       "      <td>0.0</td>\n",
       "      <td>0.15</td>\n",
       "      <td>0.55</td>\n",
       "      <td>0.60</td>\n",
       "      <td>0.750</td>\n",
       "      <td>0.75</td>\n",
       "    </tr>\n",
       "    <tr>\n",
       "      <th>1</th>\n",
       "      <td>Red</td>\n",
       "      <td>0.5</td>\n",
       "      <td>0.00</td>\n",
       "      <td>0.10</td>\n",
       "      <td>0.10</td>\n",
       "      <td>0.650</td>\n",
       "      <td>0.75</td>\n",
       "    </tr>\n",
       "    <tr>\n",
       "      <th>2</th>\n",
       "      <td>Red</td>\n",
       "      <td>1.5</td>\n",
       "      <td>0.00</td>\n",
       "      <td>0.00</td>\n",
       "      <td>0.01</td>\n",
       "      <td>0.075</td>\n",
       "      <td>0.65</td>\n",
       "    </tr>\n",
       "    <tr>\n",
       "      <th>3</th>\n",
       "      <td>Blue</td>\n",
       "      <td>0.0</td>\n",
       "      <td>0.45</td>\n",
       "      <td>0.60</td>\n",
       "      <td>0.45</td>\n",
       "      <td>0.400</td>\n",
       "      <td>0.40</td>\n",
       "    </tr>\n",
       "    <tr>\n",
       "      <th>4</th>\n",
       "      <td>Blue</td>\n",
       "      <td>0.5</td>\n",
       "      <td>0.50</td>\n",
       "      <td>0.40</td>\n",
       "      <td>0.70</td>\n",
       "      <td>0.600</td>\n",
       "      <td>0.55</td>\n",
       "    </tr>\n",
       "    <tr>\n",
       "      <th>5</th>\n",
       "      <td>Blue</td>\n",
       "      <td>1.5</td>\n",
       "      <td>0.70</td>\n",
       "      <td>0.50</td>\n",
       "      <td>0.45</td>\n",
       "      <td>0.500</td>\n",
       "      <td>0.80</td>\n",
       "    </tr>\n",
       "  </tbody>\n",
       "</table>\n",
       "</div>"
      ],
      "text/plain": [
       "  Galaxy  Redshift  UltraViolet  Green   Red  InfraRed     Z\n",
       "0    Red       0.0         0.15   0.55  0.60     0.750  0.75\n",
       "1    Red       0.5         0.00   0.10  0.10     0.650  0.75\n",
       "2    Red       1.5         0.00   0.00  0.01     0.075  0.65\n",
       "3   Blue       0.0         0.45   0.60  0.45     0.400  0.40\n",
       "4   Blue       0.5         0.50   0.40  0.70     0.600  0.55\n",
       "5   Blue       1.5         0.70   0.50  0.45     0.500  0.80"
      ]
     },
     "execution_count": 11,
     "metadata": {},
     "output_type": "execute_result"
    }
   ],
   "source": [
    "Galaxies_and_Redshifts_List_df"
   ]
  },
  {
   "cell_type": "code",
   "execution_count": 12,
   "metadata": {
    "collapsed": true
   },
   "outputs": [],
   "source": [
    "Galaxies_and_Redshifts_List_df.to_csv('Galaxies_and_Redshifts_List_df.csv', columns = Galaxies_and_Redshifts_List_df.columns, index = False)"
   ]
  },
  {
   "cell_type": "code",
   "execution_count": 13,
   "metadata": {
    "collapsed": true
   },
   "outputs": [],
   "source": [
    "Galaxies_and_Redshifts_List_df = pd.read_csv('Galaxies_and_Redshifts_List_df.csv')"
   ]
  },
  {
   "cell_type": "code",
   "execution_count": 14,
   "metadata": {
    "scrolled": false
   },
   "outputs": [
    {
     "data": {
      "text/html": [
       "<div>\n",
       "<style>\n",
       "    .dataframe thead tr:only-child th {\n",
       "        text-align: right;\n",
       "    }\n",
       "\n",
       "    .dataframe thead th {\n",
       "        text-align: left;\n",
       "    }\n",
       "\n",
       "    .dataframe tbody tr th {\n",
       "        vertical-align: top;\n",
       "    }\n",
       "</style>\n",
       "<table border=\"1\" class=\"dataframe\">\n",
       "  <thead>\n",
       "    <tr style=\"text-align: right;\">\n",
       "      <th></th>\n",
       "      <th>Galaxy</th>\n",
       "      <th>Redshift</th>\n",
       "      <th>UltraViolet</th>\n",
       "      <th>Green</th>\n",
       "      <th>Red</th>\n",
       "      <th>InfraRed</th>\n",
       "      <th>Z</th>\n",
       "    </tr>\n",
       "  </thead>\n",
       "  <tbody>\n",
       "    <tr>\n",
       "      <th>0</th>\n",
       "      <td>Red</td>\n",
       "      <td>0.0</td>\n",
       "      <td>0.15</td>\n",
       "      <td>0.55</td>\n",
       "      <td>0.60</td>\n",
       "      <td>0.750</td>\n",
       "      <td>0.75</td>\n",
       "    </tr>\n",
       "    <tr>\n",
       "      <th>1</th>\n",
       "      <td>Red</td>\n",
       "      <td>0.5</td>\n",
       "      <td>0.00</td>\n",
       "      <td>0.10</td>\n",
       "      <td>0.10</td>\n",
       "      <td>0.650</td>\n",
       "      <td>0.75</td>\n",
       "    </tr>\n",
       "    <tr>\n",
       "      <th>2</th>\n",
       "      <td>Red</td>\n",
       "      <td>1.5</td>\n",
       "      <td>0.00</td>\n",
       "      <td>0.00</td>\n",
       "      <td>0.01</td>\n",
       "      <td>0.075</td>\n",
       "      <td>0.65</td>\n",
       "    </tr>\n",
       "    <tr>\n",
       "      <th>3</th>\n",
       "      <td>Blue</td>\n",
       "      <td>0.0</td>\n",
       "      <td>0.45</td>\n",
       "      <td>0.60</td>\n",
       "      <td>0.45</td>\n",
       "      <td>0.400</td>\n",
       "      <td>0.40</td>\n",
       "    </tr>\n",
       "    <tr>\n",
       "      <th>4</th>\n",
       "      <td>Blue</td>\n",
       "      <td>0.5</td>\n",
       "      <td>0.50</td>\n",
       "      <td>0.40</td>\n",
       "      <td>0.70</td>\n",
       "      <td>0.600</td>\n",
       "      <td>0.55</td>\n",
       "    </tr>\n",
       "    <tr>\n",
       "      <th>5</th>\n",
       "      <td>Blue</td>\n",
       "      <td>1.5</td>\n",
       "      <td>0.70</td>\n",
       "      <td>0.50</td>\n",
       "      <td>0.45</td>\n",
       "      <td>0.500</td>\n",
       "      <td>0.80</td>\n",
       "    </tr>\n",
       "  </tbody>\n",
       "</table>\n",
       "</div>"
      ],
      "text/plain": [
       "  Galaxy  Redshift  UltraViolet  Green   Red  InfraRed     Z\n",
       "0    Red       0.0         0.15   0.55  0.60     0.750  0.75\n",
       "1    Red       0.5         0.00   0.10  0.10     0.650  0.75\n",
       "2    Red       1.5         0.00   0.00  0.01     0.075  0.65\n",
       "3   Blue       0.0         0.45   0.60  0.45     0.400  0.40\n",
       "4   Blue       0.5         0.50   0.40  0.70     0.600  0.55\n",
       "5   Blue       1.5         0.70   0.50  0.45     0.500  0.80"
      ]
     },
     "execution_count": 14,
     "metadata": {},
     "output_type": "execute_result"
    }
   ],
   "source": [
    "Galaxies_and_Redshifts_List_df"
   ]
  },
  {
   "cell_type": "code",
   "execution_count": 15,
   "metadata": {},
   "outputs": [],
   "source": [
    "##Calculate Magnitudes - function\n",
    "##Add those columns\n",
    "##Add colors - Read in to Data...\n",
    "##Graphs\n",
    "    ##6 colors on one set of axis\n",
    "    ##colors vs redshifts\n",
    "    ##colors vs each other \n",
    "    ##Do red and blue galaxies cover same volume of colors \n",
    "    ##Plot on top of mycorner"
   ]
  },
  {
   "cell_type": "code",
   "execution_count": 16,
   "metadata": {},
   "outputs": [
    {
     "name": "stdout",
     "output_type": "stream",
     "text": [
      "6.189350872508193\n",
      "0\n",
      "0\n",
      "4.996547735709036\n",
      "4.8821540093073486\n",
      "4.516833920111754\n"
     ]
    }
   ],
   "source": [
    "Umag_list = []\n",
    "for i in Galaxies_and_Redshifts_List_df['UltraViolet']:\n",
    "    i = .7 * i\n",
    "    i = i / 31.4\n",
    "    if i == 0:\n",
    "        i = 0\n",
    "        print(i)\n",
    "    else:\n",
    "        i = math.log10(i)\n",
    "        i = i * -2.5\n",
    "        print(i)\n",
    "    Umag_list.append(i)\n",
    "Galaxies_and_Redshifts_List_df['Umag'] = pd.Series(Umag_list, index=Galaxies_and_Redshifts_List_df.index)"
   ]
  },
  {
   "cell_type": "code",
   "execution_count": 17,
   "metadata": {
    "scrolled": true
   },
   "outputs": [
    {
     "name": "stdout",
     "output_type": "stream",
     "text": [
      "4.47021002506259\n",
      "6.3211167487981985\n",
      "0\n",
      "4.375738622839091\n",
      "4.815966770478293\n",
      "4.5736917379581525\n"
     ]
    }
   ],
   "source": [
    "Gmag_list = []\n",
    "for i in Galaxies_and_Redshifts_List_df['Green']:\n",
    "    i = .93 * i\n",
    "    i = i / 31.4\n",
    "    if i == 0:\n",
    "        i = 0\n",
    "        print(i)\n",
    "    else:\n",
    "        i = math.log10(i)\n",
    "        i = i * -2.5\n",
    "        print(i)\n",
    "    Gmag_list.append(i)\n",
    "Galaxies_and_Redshifts_List_df['Gmag'] = pd.Series(Gmag_list, index=Galaxies_and_Redshifts_List_df.index)"
   ]
  },
  {
   "cell_type": "code",
   "execution_count": 18,
   "metadata": {
    "scrolled": true
   },
   "outputs": [
    {
     "name": "stdout",
     "output_type": "stream",
     "text": [
      "4.364126360224682\n",
      "6.309504486183791\n",
      "8.80950448618379\n",
      "4.676473201745432\n",
      "4.196759386148149\n",
      "4.676473201745432\n"
     ]
    }
   ],
   "source": [
    "Rmag_list = []\n",
    "for i in Galaxies_and_Redshifts_List_df['Red']:\n",
    "    i = .94 * i\n",
    "    i = i / 31.4\n",
    "    if i == 0:\n",
    "        i = 0\n",
    "        print(i)\n",
    "    else:\n",
    "        i = math.log10(i)\n",
    "        i = i * -2.5\n",
    "        print(i)\n",
    "    Rmag_list.append(i)\n",
    "Galaxies_and_Redshifts_List_df['Rmag'] = pd.Series(Rmag_list, index=Galaxies_and_Redshifts_List_df.index)##I don't know why the only thing in the list is the last value of i"
   ]
  },
  {
   "cell_type": "code",
   "execution_count": 19,
   "metadata": {},
   "outputs": [
    {
     "name": "stdout",
     "output_type": "stream",
     "text": [
      "4.110361948481668\n",
      "4.265731715353779\n",
      "6.610361948481668\n",
      "4.7928651286410116\n",
      "4.352636981001809\n",
      "4.550590096120871\n"
     ]
    }
   ],
   "source": [
    "Imag_list = []\n",
    "for i in Galaxies_and_Redshifts_List_df['InfraRed']:\n",
    "    i = .95 * i\n",
    "    i = i / 31.4\n",
    "    if i == 0:\n",
    "        i = 0\n",
    "        print(i)\n",
    "    else:\n",
    "        i = math.log10(i)\n",
    "        i = i * -2.5\n",
    "        print(i)\n",
    "    Imag_list.append(i)\n",
    "Galaxies_and_Redshifts_List_df['Imag'] = pd.Series(Imag_list, index=Galaxies_and_Redshifts_List_df.index)"
   ]
  },
  {
   "cell_type": "code",
   "execution_count": 20,
   "metadata": {},
   "outputs": [
    {
     "name": "stdout",
     "output_type": "stream",
     "text": [
      "4.098992879104866\n",
      "4.098992879104866\n",
      "4.254362645976977\n",
      "4.78149605926421\n",
      "4.435739313848507\n",
      "4.028921070104257\n"
     ]
    }
   ],
   "source": [
    "Zmag_list = []\n",
    "for i in Galaxies_and_Redshifts_List_df['Z']:\n",
    "    i = .96 * i\n",
    "    i = i / 31.4\n",
    "    if i == 0:\n",
    "        i = 0\n",
    "        print(i)\n",
    "    else:\n",
    "        i = math.log10(i)\n",
    "        i = i * -2.5\n",
    "        print(i)\n",
    "    Zmag_list.append(i)\n",
    "Galaxies_and_Redshifts_List_df['Zmag'] = pd.Series(Zmag_list, index=Galaxies_and_Redshifts_List_df.index)"
   ]
  },
  {
   "cell_type": "markdown",
   "metadata": {},
   "source": [
    "##I don't know why the only thing in each column is the last value of i\n",
    "columns_for_this = ['UltraViolet', 'Green', 'Red', 'InfraRed', 'Z']\n",
    "'UltraViolet Rate' = '.7'\n",
    "'Green Rate' = '.93'\n",
    "'Red Rate' = '.94'\n",
    "'InfraRed Rate' = '.95'\n",
    "'Z Rate' = '.96'\n",
    "for x in columns_for_this:\n",
    "    for i in Galaxies_and_Redshifts_List_df[x]:\n",
    "        list = []\n",
    "        Rate = x + Rate\n",
    "        i = Rate * i\n",
    "        i = i / 31.4\n",
    "        if i == 0:\n",
    "            i = 0\n",
    "        else:\n",
    "            i = math.log10(i)\n",
    "            i = i * -2.5\n",
    "        list.append(i)\n",
    "    Galaxies_and_Redshifts_List_df[x[0] + 'mag'] = pd.Series(list, index=Galaxies_and_Redshifts_List_df.index)"
   ]
  },
  {
   "cell_type": "code",
   "execution_count": 21,
   "metadata": {
    "scrolled": true
   },
   "outputs": [
    {
     "data": {
      "text/html": [
       "<div>\n",
       "<style>\n",
       "    .dataframe thead tr:only-child th {\n",
       "        text-align: right;\n",
       "    }\n",
       "\n",
       "    .dataframe thead th {\n",
       "        text-align: left;\n",
       "    }\n",
       "\n",
       "    .dataframe tbody tr th {\n",
       "        vertical-align: top;\n",
       "    }\n",
       "</style>\n",
       "<table border=\"1\" class=\"dataframe\">\n",
       "  <thead>\n",
       "    <tr style=\"text-align: right;\">\n",
       "      <th></th>\n",
       "      <th>Galaxy</th>\n",
       "      <th>Redshift</th>\n",
       "      <th>UltraViolet</th>\n",
       "      <th>Green</th>\n",
       "      <th>Red</th>\n",
       "      <th>InfraRed</th>\n",
       "      <th>Z</th>\n",
       "      <th>Umag</th>\n",
       "      <th>Gmag</th>\n",
       "      <th>Rmag</th>\n",
       "      <th>Imag</th>\n",
       "      <th>Zmag</th>\n",
       "    </tr>\n",
       "  </thead>\n",
       "  <tbody>\n",
       "    <tr>\n",
       "      <th>0</th>\n",
       "      <td>Red</td>\n",
       "      <td>0.0</td>\n",
       "      <td>0.15</td>\n",
       "      <td>0.55</td>\n",
       "      <td>0.60</td>\n",
       "      <td>0.750</td>\n",
       "      <td>0.75</td>\n",
       "      <td>6.189351</td>\n",
       "      <td>4.470210</td>\n",
       "      <td>4.364126</td>\n",
       "      <td>4.110362</td>\n",
       "      <td>4.098993</td>\n",
       "    </tr>\n",
       "    <tr>\n",
       "      <th>1</th>\n",
       "      <td>Red</td>\n",
       "      <td>0.5</td>\n",
       "      <td>0.00</td>\n",
       "      <td>0.10</td>\n",
       "      <td>0.10</td>\n",
       "      <td>0.650</td>\n",
       "      <td>0.75</td>\n",
       "      <td>0.000000</td>\n",
       "      <td>6.321117</td>\n",
       "      <td>6.309504</td>\n",
       "      <td>4.265732</td>\n",
       "      <td>4.098993</td>\n",
       "    </tr>\n",
       "    <tr>\n",
       "      <th>2</th>\n",
       "      <td>Red</td>\n",
       "      <td>1.5</td>\n",
       "      <td>0.00</td>\n",
       "      <td>0.00</td>\n",
       "      <td>0.01</td>\n",
       "      <td>0.075</td>\n",
       "      <td>0.65</td>\n",
       "      <td>0.000000</td>\n",
       "      <td>0.000000</td>\n",
       "      <td>8.809504</td>\n",
       "      <td>6.610362</td>\n",
       "      <td>4.254363</td>\n",
       "    </tr>\n",
       "    <tr>\n",
       "      <th>3</th>\n",
       "      <td>Blue</td>\n",
       "      <td>0.0</td>\n",
       "      <td>0.45</td>\n",
       "      <td>0.60</td>\n",
       "      <td>0.45</td>\n",
       "      <td>0.400</td>\n",
       "      <td>0.40</td>\n",
       "      <td>4.996548</td>\n",
       "      <td>4.375739</td>\n",
       "      <td>4.676473</td>\n",
       "      <td>4.792865</td>\n",
       "      <td>4.781496</td>\n",
       "    </tr>\n",
       "    <tr>\n",
       "      <th>4</th>\n",
       "      <td>Blue</td>\n",
       "      <td>0.5</td>\n",
       "      <td>0.50</td>\n",
       "      <td>0.40</td>\n",
       "      <td>0.70</td>\n",
       "      <td>0.600</td>\n",
       "      <td>0.55</td>\n",
       "      <td>4.882154</td>\n",
       "      <td>4.815967</td>\n",
       "      <td>4.196759</td>\n",
       "      <td>4.352637</td>\n",
       "      <td>4.435739</td>\n",
       "    </tr>\n",
       "    <tr>\n",
       "      <th>5</th>\n",
       "      <td>Blue</td>\n",
       "      <td>1.5</td>\n",
       "      <td>0.70</td>\n",
       "      <td>0.50</td>\n",
       "      <td>0.45</td>\n",
       "      <td>0.500</td>\n",
       "      <td>0.80</td>\n",
       "      <td>4.516834</td>\n",
       "      <td>4.573692</td>\n",
       "      <td>4.676473</td>\n",
       "      <td>4.550590</td>\n",
       "      <td>4.028921</td>\n",
       "    </tr>\n",
       "  </tbody>\n",
       "</table>\n",
       "</div>"
      ],
      "text/plain": [
       "  Galaxy  Redshift  UltraViolet  Green   Red  InfraRed     Z      Umag  \\\n",
       "0    Red       0.0         0.15   0.55  0.60     0.750  0.75  6.189351   \n",
       "1    Red       0.5         0.00   0.10  0.10     0.650  0.75  0.000000   \n",
       "2    Red       1.5         0.00   0.00  0.01     0.075  0.65  0.000000   \n",
       "3   Blue       0.0         0.45   0.60  0.45     0.400  0.40  4.996548   \n",
       "4   Blue       0.5         0.50   0.40  0.70     0.600  0.55  4.882154   \n",
       "5   Blue       1.5         0.70   0.50  0.45     0.500  0.80  4.516834   \n",
       "\n",
       "       Gmag      Rmag      Imag      Zmag  \n",
       "0  4.470210  4.364126  4.110362  4.098993  \n",
       "1  6.321117  6.309504  4.265732  4.098993  \n",
       "2  0.000000  8.809504  6.610362  4.254363  \n",
       "3  4.375739  4.676473  4.792865  4.781496  \n",
       "4  4.815967  4.196759  4.352637  4.435739  \n",
       "5  4.573692  4.676473  4.550590  4.028921  "
      ]
     },
     "execution_count": 21,
     "metadata": {},
     "output_type": "execute_result"
    }
   ],
   "source": [
    "Galaxies_and_Redshifts_List_df"
   ]
  },
  {
   "cell_type": "code",
   "execution_count": 23,
   "metadata": {
    "scrolled": false
   },
   "outputs": [
    {
     "ename": "AttributeError",
     "evalue": "'DataFrame' object has no attribute 'rows'",
     "output_type": "error",
     "traceback": [
      "\u001b[0;31m---------------------------------------------------------------------------\u001b[0m",
      "\u001b[0;31mAttributeError\u001b[0m                            Traceback (most recent call last)",
      "\u001b[0;32m<ipython-input-23-a96a4a5a4759>\u001b[0m in \u001b[0;36m<module>\u001b[0;34m()\u001b[0m\n\u001b[1;32m      4\u001b[0m \u001b[0mImag_Zmag\u001b[0m \u001b[0;34m=\u001b[0m \u001b[0;34m[\u001b[0m\u001b[0;34m]\u001b[0m\u001b[0;34m\u001b[0m\u001b[0m\n\u001b[1;32m      5\u001b[0m \u001b[0mZmag_Umag\u001b[0m \u001b[0;34m=\u001b[0m \u001b[0;34m[\u001b[0m\u001b[0;34m]\u001b[0m\u001b[0;34m\u001b[0m\u001b[0m\n\u001b[0;32m----> 6\u001b[0;31m \u001b[0;32mfor\u001b[0m \u001b[0mi\u001b[0m \u001b[0;32min\u001b[0m \u001b[0mGalaxies_and_Redshifts_List_df\u001b[0m\u001b[0;34m.\u001b[0m\u001b[0mrows\u001b[0m\u001b[0;34m:\u001b[0m\u001b[0;34m\u001b[0m\u001b[0m\n\u001b[0m\u001b[1;32m      7\u001b[0m     \u001b[0mUmag2\u001b[0m \u001b[0;34m=\u001b[0m \u001b[0mGalaxies_and_Redshifts_List_df\u001b[0m\u001b[0;34m[\u001b[0m\u001b[0;34m'Gmag'\u001b[0m\u001b[0;34m]\u001b[0m\u001b[0;34m[\u001b[0m\u001b[0mi\u001b[0m\u001b[0;34m]\u001b[0m\u001b[0;34m\u001b[0m\u001b[0m\n\u001b[1;32m      8\u001b[0m     \u001b[0mGmag2\u001b[0m \u001b[0;34m=\u001b[0m \u001b[0mGalaxies_and_Redshifts_List_df\u001b[0m\u001b[0;34m[\u001b[0m\u001b[0;34m'Gmag'\u001b[0m\u001b[0;34m]\u001b[0m\u001b[0;34m[\u001b[0m\u001b[0mi\u001b[0m\u001b[0;34m]\u001b[0m\u001b[0;34m\u001b[0m\u001b[0m\n",
      "\u001b[0;32m/anaconda3/lib/python3.6/site-packages/pandas/core/generic.py\u001b[0m in \u001b[0;36m__getattr__\u001b[0;34m(self, name)\u001b[0m\n\u001b[1;32m   3079\u001b[0m             \u001b[0;32mif\u001b[0m \u001b[0mname\u001b[0m \u001b[0;32min\u001b[0m \u001b[0mself\u001b[0m\u001b[0;34m.\u001b[0m\u001b[0m_info_axis\u001b[0m\u001b[0;34m:\u001b[0m\u001b[0;34m\u001b[0m\u001b[0m\n\u001b[1;32m   3080\u001b[0m                 \u001b[0;32mreturn\u001b[0m \u001b[0mself\u001b[0m\u001b[0;34m[\u001b[0m\u001b[0mname\u001b[0m\u001b[0;34m]\u001b[0m\u001b[0;34m\u001b[0m\u001b[0m\n\u001b[0;32m-> 3081\u001b[0;31m             \u001b[0;32mreturn\u001b[0m \u001b[0mobject\u001b[0m\u001b[0;34m.\u001b[0m\u001b[0m__getattribute__\u001b[0m\u001b[0;34m(\u001b[0m\u001b[0mself\u001b[0m\u001b[0;34m,\u001b[0m \u001b[0mname\u001b[0m\u001b[0;34m)\u001b[0m\u001b[0;34m\u001b[0m\u001b[0m\n\u001b[0m\u001b[1;32m   3082\u001b[0m \u001b[0;34m\u001b[0m\u001b[0m\n\u001b[1;32m   3083\u001b[0m     \u001b[0;32mdef\u001b[0m \u001b[0m__setattr__\u001b[0m\u001b[0;34m(\u001b[0m\u001b[0mself\u001b[0m\u001b[0;34m,\u001b[0m \u001b[0mname\u001b[0m\u001b[0;34m,\u001b[0m \u001b[0mvalue\u001b[0m\u001b[0;34m)\u001b[0m\u001b[0;34m:\u001b[0m\u001b[0;34m\u001b[0m\u001b[0m\n",
      "\u001b[0;31mAttributeError\u001b[0m: 'DataFrame' object has no attribute 'rows'"
     ]
    }
   ],
   "source": [
    "Umag_Gmag = []\n",
    "Gmag_Rmag = []\n",
    "Rmag_Imag = []\n",
    "Imag_Zmag = []\n",
    "Zmag_Umag = []\n",
    "for i in Galaxies_and_Redshifts_List_df.rows:\n",
    "    Umag2 = Galaxies_and_Redshifts_List_df['Umag'][i]\n",
    "    Gmag2 = Galaxies_and_Redshifts_List_df['Gmag'][i]\n",
    "    Rmag2 = Galaxies_and_Redshifts_List_df['Rmag'][i]\n",
    "    Imag2 = Galaxies_and_Redshifts_List_df['Imag'][i]\n",
    "    Zmag2 = Galaxies_and_Redshifts_List_df['Zmag'][i]\n",
    "    ug = Umag2 - Gmag2\n",
    "    gr = Gmag2 - Rmag2\n",
    "    ri = Rmag2 - Imag2\n",
    "    iz = Imag2 - Zmag2\n",
    "    zu = Zmag2 - Umag2\n",
    "    Umag_Gmag.append(ug)\n",
    "    Gmag_Rmag.append(gr)\n",
    "    Rmag_Imag.append(ri)\n",
    "    Imag_Zmag.append(iz)\n",
    "    Zmag_Umag.append(zu)\n",
    "Galaxies_and_Redshifts_List_df['Umag-Gmag'] = pd.Series(Umag_Gmag, index=Galaxies_and_Redshifts_List_df.index)\n",
    "Galaxies_and_Redshifts_List_df['Gmag-Rmag'] = pd.Series(Gmag_Rmag, index=Galaxies_and_Redshifts_List_df.index)\n",
    "Galaxies_and_Redshifts_List_df['Rmag-Imag'] = pd.Series(Rmag_Imag, index=Galaxies_and_Redshifts_List_df.index)\n",
    "Galaxies_and_Redshifts_List_df['Imag-Zmag'] = pd.Series(Imag_Zmag, index=Galaxies_and_Redshifts_List_df.index)\n",
    "Galaxies_and_Redshifts_List_df['Zmag-Umag'] = pd.Series(Zmag_Umag, index=Galaxies_and_Redshifts_List_df.index)"
   ]
  },
  {
   "cell_type": "code",
   "execution_count": null,
   "metadata": {
    "collapsed": true
   },
   "outputs": [],
   "source": []
  }
 ],
 "metadata": {
  "kernelspec": {
   "display_name": "Python 3",
   "language": "python",
   "name": "python3"
  },
  "language_info": {
   "codemirror_mode": {
    "name": "ipython",
    "version": 3
   },
   "file_extension": ".py",
   "mimetype": "text/x-python",
   "name": "python",
   "nbconvert_exporter": "python",
   "pygments_lexer": "ipython3",
   "version": "3.6.3"
  }
 },
 "nbformat": 4,
 "nbformat_minor": 2
}
