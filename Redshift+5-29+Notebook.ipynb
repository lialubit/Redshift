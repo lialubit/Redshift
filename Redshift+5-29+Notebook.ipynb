{
 "cells": [
  {
   "cell_type": "code",
   "execution_count": null,
   "metadata": {
    "collapsed": true
   },
   "outputs": [],
   "source": [
    "import numpy as np\n",
    "import pandas as pd\n",
    "import itertools\n",
    "from itertools import product"
   ]
  },
  {
   "cell_type": "code",
   "execution_count": null,
   "metadata": {
    "collapsed": true
   },
   "outputs": [],
   "source": [
    "transmission_rate = [.7, .93, .94, .95, .96]\n",
    "np.savetxt('transmission_rate.txt', transmission_rate)"
   ]
  },
  {
   "cell_type": "code",
   "execution_count": null,
   "metadata": {
    "collapsed": true
   },
   "outputs": [],
   "source": [
    "new_transmission_rate = np.genfromtxt(\"transmission_rate.txt\")"
   ]
  },
  {
   "cell_type": "code",
   "execution_count": null,
   "metadata": {},
   "outputs": [],
   "source": [
    "print(new_transmission_rate)"
   ]
  },
  {
   "cell_type": "code",
   "execution_count": null,
   "metadata": {
    "scrolled": true
   },
   "outputs": [],
   "source": [
    "# Blue, 0 \n",
    "# Umag: 4.996547735709 \n",
    "# Gmag: 4.3757386228391\n",
    "# Rmag: 4.6764732017454\n",
    "# Imag: 4.792865128641\n",
    "# Zmag: 4.7814960592642\n",
    "\n",
    "Galaxies_and_Redshifts = {'Galaxy': ['Red', 'Blue'], 'Redshift': [0, 0.5, 1.5]}\n",
    "Galaxies_and_Redshifts_List = list(itertools.product(Galaxies_and_Redshifts['Galaxy'], Galaxies_and_Redshifts['Redshift']))\n",
    "Galaxies_and_Redshifts_List_df = pd.DataFrame(data = Galaxies_and_Redshifts_List, columns = Galaxies_and_Redshifts.keys())\n",
    "# k = 0\n",
    "# for i in d['Galaxy']:\n",
    "#     k += 1\n",
    "#     for j in d['Redshift']:\n",
    "#         IntermediateThing[k][0] = i\n",
    "#         IntermediateThing[k][1] = j\n",
    "# df = pd.DataFrame(data=d)\n",
    "# df\n",
    "Galaxies_and_Redshifts_List_df"
   ]
  },
  {
   "cell_type": "code",
   "execution_count": null,
   "metadata": {
    "collapsed": true
   },
   "outputs": [],
   "source": [
    "Galaxies_and_Redshifts_List_df['UltraViolet'] = pd.Series([.15, .0, .0, .45, .5, .7], index=Galaxies_and_Redshifts_List_df.index)"
   ]
  },
  {
   "cell_type": "code",
   "execution_count": null,
   "metadata": {
    "collapsed": true
   },
   "outputs": [],
   "source": [
    "Galaxies_and_Redshifts_List_df['Green'] = pd.Series([.55, .1, .0, .6, .4, .5], index=Galaxies_and_Redshifts_List_df.index)"
   ]
  },
  {
   "cell_type": "code",
   "execution_count": null,
   "metadata": {
    "collapsed": true
   },
   "outputs": [],
   "source": [
    "Galaxies_and_Redshifts_List_df['Red'] = pd.Series([.6, .1, .01, .45, .7, .45], index=Galaxies_and_Redshifts_List_df.index)"
   ]
  },
  {
   "cell_type": "code",
   "execution_count": null,
   "metadata": {
    "collapsed": true
   },
   "outputs": [],
   "source": [
    "Galaxies_and_Redshifts_List_df['InfraRed'] = pd.Series([.75, .65, .075, .4, .6, .5], index=Galaxies_and_Redshifts_List_df.index)"
   ]
  },
  {
   "cell_type": "code",
   "execution_count": null,
   "metadata": {
    "collapsed": true
   },
   "outputs": [],
   "source": [
    "Galaxies_and_Redshifts_List_df['Z'] = pd.Series([.75, .75, .65, .4, .55, .8], index=Galaxies_and_Redshifts_List_df.index)"
   ]
  },
  {
   "cell_type": "code",
   "execution_count": null,
   "metadata": {
    "scrolled": false
   },
   "outputs": [],
   "source": [
    "Galaxies_and_Redshifts_List_df"
   ]
  },
  {
   "cell_type": "code",
   "execution_count": null,
   "metadata": {
    "collapsed": true
   },
   "outputs": [],
   "source": [
    "Galaxies_and_Redshifts_List_df.to_csv('Galaxies_and_Redshifts_List_df.csv', columns = Galaxies_and_Redshifts_List_df.columns, index = False)"
   ]
  },
  {
   "cell_type": "code",
   "execution_count": null,
   "metadata": {
    "collapsed": true
   },
   "outputs": [],
   "source": [
    "Galaxies_and_Redshifts_List_df = pd.read_csv('Galaxies_and_Redshifts_List_df.csv')"
   ]
  },
  {
   "cell_type": "code",
   "execution_count": null,
   "metadata": {
    "scrolled": true
   },
   "outputs": [],
   "source": [
    "Galaxies_and_Redshifts_List_df"
   ]
  },
  {
   "cell_type": "code",
   "execution_count": null,
   "metadata": {
    "collapsed": true
   },
   "outputs": [],
   "source": [
    "##Calculate Magnitudes - function\n",
    "##Add those columns\n",
    "##Add colors - Read in to Data...\n",
    "##Graphs\n",
    "    ##6 colors on one set of axis\n",
    "    ##colors vs redshifts\n",
    "    ##colors vs each other \n",
    "    ##Do red and blue galaxies cover same volume of colors \n",
    "    ##Plot on top of mycorner"
   ]
  }
 ],
 "metadata": {
  "kernelspec": {
   "display_name": "Python 3",
   "language": "python",
   "name": "python3"
  },
  "language_info": {
   "codemirror_mode": {
    "name": "ipython",
    "version": 3
   },
   "file_extension": ".py",
   "mimetype": "text/x-python",
   "name": "python",
   "nbconvert_exporter": "python",
   "pygments_lexer": "ipython3",
   "version": "3.6.3"
  }
 },
 "nbformat": 4,
 "nbformat_minor": 2
}
