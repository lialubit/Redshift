{
 "cells": [
  {
   "cell_type": "code",
   "execution_count": null,
   "metadata": {
    "collapsed": true
   },
   "outputs": [],
   "source": [
    "import astropy\n",
    "from astropy import io\n",
    "from astropy.io import fits\n",
    "import csv\n",
    "import numpy as np\n",
    "import matplotlib.pyplot as plt\n",
    "import numpy as np\n",
    "import pandas as pd\n",
    "import itertools\n",
    "import math \n",
    "import cmath\n",
    "from itertools import product\n",
    "import matplotlib.colors as mcolors"
   ]
  },
  {
   "cell_type": "code",
   "execution_count": null,
   "metadata": {
    "collapsed": true
   },
   "outputs": [],
   "source": [
    "def cleaner(file, column_name, condition): \n",
    "    #file = pd.DataFrame(file.data)\n",
    "    file = file[np.logical_not(np.isnan(file))]\n",
    "    file = file[np.logical_not(np.isinf(file))]\n",
    "    file = file[condition(file[column_name])]\n",
    "    file.head()\n",
    "    return(file)\n",
    "\n",
    "def main_cleaner(file, condition): \n",
    "    for i in file.columns:\n",
    "        file = file[np.logical_not(np.isnan(file))]\n",
    "        file = file[np.logical_not(np.isinf(file))]\n",
    "        file = cleaner(file, i, condition)\n",
    "        file = file[np.logical_not(np.isnan(file))]\n",
    "    return(file)\n",
    "\n",
    "def gtr0(x):\n",
    "    return x > 0.0"
   ]
  },
  {
   "cell_type": "code",
   "execution_count": null,
   "metadata": {
    "collapsed": true
   },
   "outputs": [],
   "source": [
    "fits_data = astropy.io.fits.open('asu.fit')\n",
    "zcosmos = fits_data[1].data"
   ]
  },
  {
   "cell_type": "code",
   "execution_count": null,
   "metadata": {},
   "outputs": [],
   "source": [
    "name_info = fits_data[1].columns\n",
    "print([i.name for i in name_info])\n",
    "zcosmos_names = [i.name for i in name_info]"
   ]
  },
  {
   "cell_type": "code",
   "execution_count": null,
   "metadata": {
    "collapsed": true
   },
   "outputs": [],
   "source": [
    "useful_columns_zcosmos_data = [zcosmos_names[3], zcosmos_names[5]]"
   ]
  },
  {
   "cell_type": "code",
   "execution_count": null,
   "metadata": {},
   "outputs": [],
   "source": [
    "z = useful_columns_zcosmos_data[0]\n",
    "zcosmos_redshift = zcosmos[z]\n",
    "print(zcosmos_redshift)"
   ]
  },
  {
   "cell_type": "code",
   "execution_count": null,
   "metadata": {
    "collapsed": true
   },
   "outputs": [],
   "source": [
    "fits_data2 = astropy.io.fits.open('asu2.fit')\n",
    "cosmos = fits_data2[1].data"
   ]
  },
  {
   "cell_type": "markdown",
   "metadata": {
    "collapsed": true
   },
   "source": [
    "cosmos = main_cleaner(cosmos, gtr0)"
   ]
  },
  {
   "cell_type": "code",
   "execution_count": null,
   "metadata": {
    "collapsed": true
   },
   "outputs": [],
   "source": []
  },
  {
   "cell_type": "code",
   "execution_count": null,
   "metadata": {},
   "outputs": [],
   "source": [
    "name_info2 = fits_data2[1].columns\n",
    "print([i.name for i in name_info2])\n",
    "cosmos_names = [i.name for i in name_info2]"
   ]
  },
  {
   "cell_type": "code",
   "execution_count": null,
   "metadata": {
    "collapsed": true
   },
   "outputs": [],
   "source": [
    "zcosmos = pd.DataFrame(fits_data[1].data)"
   ]
  },
  {
   "cell_type": "code",
   "execution_count": null,
   "metadata": {},
   "outputs": [],
   "source": [
    "##diagnostic to find abnormal placeholder values for removal\n",
    "for i in zcosmos:\n",
    "    plt.hist(zcosmos[i], color='blue', linewidth=5, bins=100)\n",
    "    plt.xlabel(i)\n",
    "    plt.ylabel(\"Number\")\n",
    "    plt.title(\"ZCosmos_Diagnostic\" + \" \" + i)\n",
    "    ##plt.savefig(\"ZCosmos_Diagnostic\" + \" \" + i + \" \" + \"Plot.png\")\n",
    "    plt.show()"
   ]
  },
  {
   "cell_type": "code",
   "execution_count": null,
   "metadata": {
    "collapsed": true
   },
   "outputs": [],
   "source": [
    "##remove abnormal placeholder values\n",
    "zcosmos = main_cleaner(zcosmos, gtr0)"
   ]
  },
  {
   "cell_type": "code",
   "execution_count": null,
   "metadata": {},
   "outputs": [],
   "source": [
    "cosmos_df = pd.DataFrame(fits_data2[1].data)\n",
    "cosmos_df.head()"
   ]
  },
  {
   "cell_type": "code",
   "execution_count": null,
   "metadata": {},
   "outputs": [],
   "source": [
    "##diagnostic to find abnormal placeholder values for removal\n",
    "for i in cosmos_df:\n",
    "    plt.hist(cosmos_df[i], color='blue', linewidth=5, bins=100)\n",
    "    plt.xlabel(i)\n",
    "    plt.ylabel(\"Number\")\n",
    "    plt.title(\"Cosmos_Diagnostic\" + \" \" + i)\n",
    "    ##plt.savefig(\"Cosmos_Diagnostic\" + \" \" + i + \" \" + \"Plot.png\")\n",
    "    plt.show()"
   ]
  },
  {
   "cell_type": "code",
   "execution_count": null,
   "metadata": {
    "collapsed": true
   },
   "outputs": [],
   "source": [
    "cosmos = main_cleaner(cosmos_df, gtr0)"
   ]
  },
  {
   "cell_type": "code",
   "execution_count": null,
   "metadata": {
    "collapsed": true
   },
   "outputs": [],
   "source": [
    "##cross match of cosmos and zcosmos from http://cdsxmatch.u-strasbg.fr/xmatch\n",
    "cosmos_and_zcosmos_cross_match1= pd.read_csv('cross_match.csv')"
   ]
  },
  {
   "cell_type": "code",
   "execution_count": null,
   "metadata": {},
   "outputs": [],
   "source": [
    "cosmos_and_zcosmos_cross_match1.columns\n"
   ]
  },
  {
   "cell_type": "code",
   "execution_count": null,
   "metadata": {
    "collapsed": true
   },
   "outputs": [],
   "source": [
    "cosmos_and_zcosmos_cross_match = main_cleaner(cosmos_and_zcosmos_cross_match1, gtr0)"
   ]
  },
  {
   "cell_type": "code",
   "execution_count": null,
   "metadata": {
    "collapsed": true
   },
   "outputs": [],
   "source": [
    "cosmos_and_zcosmos_cross_match_useful_columns = ['angDist', '_RAJ2000', '_DEJ2000', 'COSMOS', 'RAJ2000', 'DEJ2000', \n",
    "                                                  'imagA', 'n_imagA', 'Bmag', 'Vmag', 'gmag', 'rmag', 'zmag', 'zphot', '_RAJ2000.1', '_DEJ2000.1', 'zCOSMOS', 'RAJ2000.1',\n",
    "                                                  'DEJ2000.1', 'z', 'CClass', 'Imag', 'Mask']"
   ]
  },
  {
   "cell_type": "code",
   "execution_count": null,
   "metadata": {},
   "outputs": [],
   "source": [
    "for i in cosmos_and_zcosmos_cross_match_useful_columns:\n",
    "    print(i)\n",
    "    plt.hist(cosmos_and_zcosmos_cross_match[i], color='blue', linewidth=5, bins=100)\n",
    "    plt.xlabel(i)\n",
    "    plt.ylabel(\"Number\")\n",
    "    plt.title(\"Cosmos_and_ZCosmos_Cross_Match_Diagnostic\" + \" \" + i)\n",
    "    ##plt.savefig(\"Cosmos_and_ZCosmos_Cross_Match_Diagnostic\" + \" \" + i + \" \" + \"Plot.png\")\n",
    "    plt.show()"
   ]
  },
  {
   "cell_type": "code",
   "execution_count": null,
   "metadata": {
    "collapsed": true
   },
   "outputs": [],
   "source": [
    "value_counts_zcosmos = cosmos_and_zcosmos_cross_match['zCOSMOS'].value_counts(sort=False)\n",
    "counts_zcosmos = value_counts_zcosmos.tolist()\n",
    "value_counts_cosmos_and_zcosmos_cross_match = cosmos_and_zcosmos_cross_match['zCOSMOS'].value_counts(sort=False)\n",
    "counts_cosmos_and_zcosmos_cross_match = value_counts_cosmos_and_zcosmos_cross_match.tolist()\n",
    "ids_zcosmos = value_counts_zcosmos.keys().tolist()\n",
    "\n",
    "value_counts_cosmos = cosmos_and_zcosmos_cross_match['COSMOS'].value_counts(sort=False)\n",
    "counts_cosmos = value_counts_cosmos.tolist()\n",
    "ids_cosmos = value_counts_cosmos.keys().tolist()"
   ]
  },
  {
   "cell_type": "code",
   "execution_count": null,
   "metadata": {
    "collapsed": true
   },
   "outputs": [],
   "source": []
  },
  {
   "cell_type": "code",
   "execution_count": null,
   "metadata": {},
   "outputs": [],
   "source": [
    "##find cosmos ids of cross match elements with zcosmos id used\n",
    "\n",
    "\n",
    "match_indices_zcosmos = cosmos_and_zcosmos_cross_match['zCOSMOS']\n",
    "# print(match_indices_zcosmos)\n",
    "zcosmos_unique = {}\n",
    "# print(zcosmos_unique)\n",
    "(zcosmos_unique['zcosmos_ids'], zcosmos_unique['xmatch_indices'], zcosmos_unique['counts']) = np.unique(match_indices_zcosmos, return_index=True, return_counts=True)\n",
    "# unique_xmatch_indices = zcosmos_unique['xmatch_indices']\n",
    "# zcosmos_id1 = zcosmos_unique['zcosmos_ids']\n",
    "for i in zcosmos_unique['counts']:\n",
    "    \n",
    "    \n",
    "    \n",
    "#     zcosmos_id2 = cosmos_and_zcosmos_cross_match[i][zcosmos_id1]\n",
    "#     print(zcosmos_unique['zcosmos_ids'])\n",
    "    #     cosmos_ids = \n",
    "\n",
    "    if zcosmos_unique['zcosmos_ids'][i] > 1:\n",
    "        print('YAY')\n",
    "#         cosmos_ids_set = (cosmos_and_zcosmos_cross_match['COSMOS'][i])\n",
    "###    ids_cosmos = zcosmos_unique['xmatch_indices'][cosmos_and_zcosmos_cross_match['COSMOS'] == zcosmos_unique['zcosmos_ids'][i]].index.tolist()"
   ]
  },
  {
   "cell_type": "code",
   "execution_count": null,
   "metadata": {
    "collapsed": true
   },
   "outputs": [],
   "source": [
    "match_indices_zcosmos = cosmos_and_zcosmos_cross_match['zCOSMOS']\n",
    "# print(match_indices_zcosmos)\n",
    "zcosmos_unique = {}\n",
    "# print(zcosmos_unique)\n",
    "(zcosmos_unique['zcosmos_ids'], zcosmos_unique['xmatch_indices'], zcosmos_unique['counts']) = np.unique(match_indices_zcosmos, return_index=True, return_counts=True)\n",
    "# unique_xmatch_indices = zcosmos_unique['xmatch_indices']\n",
    "# zcosmos_id1 = zcosmos_unique['zcosmos_ids']\n",
    "#     print(zcosmos_unique['counts'])\n",
    "\n",
    "# duplicated_indices = zcosmos_unique['xmatch_indices'][zcosmos_unique['counts'] > 1]\n",
    "# for i in duplicated_indices:\n",
    "#     print(i)\n",
    "#     zcosmos_id = (cosmos_and_zcosmos_cross_match['zCOSMOS'][i])\n",
    "#     print(zcosmos_id, np.where(zcosmos_unique['zcosmos_ids'] == zcosmos_id))\n",
    "# #     print(cosmos_and_zcosmos_cross_match[COSMOS'][zcosmos_id])"
   ]
  },
  {
   "cell_type": "code",
   "execution_count": null,
   "metadata": {
    "collapsed": true
   },
   "outputs": [],
   "source": [
    "##here is the document I actually need\n",
    "cosmos_and_zcosmos_cross_match = cosmos_and_zcosmos_cross_match[cosmos_and_zcosmos_cross_match_useful_columns]"
   ]
  },
  {
   "cell_type": "code",
   "execution_count": null,
   "metadata": {
    "collapsed": true
   },
   "outputs": [],
   "source": []
  },
  {
   "cell_type": "code",
   "execution_count": null,
   "metadata": {
    "collapsed": true
   },
   "outputs": [],
   "source": [
    "cosmos_only = cosmos[~cosmos['COSMOS'].isin(cosmos_and_zcosmos_cross_match['COSMOS'])]\n",
    "zcosmos_only = zcosmos[~zcosmos['zCOSMOS'].isin(cosmos_and_zcosmos_cross_match['zCOSMOS'])]"
   ]
  },
  {
   "cell_type": "code",
   "execution_count": null,
   "metadata": {
    "collapsed": true
   },
   "outputs": [],
   "source": [
    "cosmos = pd.DataFrame(data=cosmos)"
   ]
  },
  {
   "cell_type": "code",
   "execution_count": null,
   "metadata": {
    "collapsed": true
   },
   "outputs": [],
   "source": []
  },
  {
   "cell_type": "code",
   "execution_count": null,
   "metadata": {
    "collapsed": true
   },
   "outputs": [],
   "source": [
    "transmission_rate = [.7, .93, .94, .95, .96]\n",
    "np.savetxt('transmission_rate.txt', transmission_rate)"
   ]
  },
  {
   "cell_type": "code",
   "execution_count": null,
   "metadata": {
    "collapsed": true
   },
   "outputs": [],
   "source": [
    "new_transmission_rate = np.genfromtxt(\"transmission_rate.txt\")"
   ]
  },
  {
   "cell_type": "code",
   "execution_count": null,
   "metadata": {
    "scrolled": true
   },
   "outputs": [],
   "source": [
    "print(new_transmission_rate)"
   ]
  },
  {
   "cell_type": "code",
   "execution_count": null,
   "metadata": {
    "scrolled": true
   },
   "outputs": [],
   "source": [
    "# Blue, 0 \n",
    "# Umag: 4.996547735709 \n",
    "# Gmag: 4.3757386228391\n",
    "# Rmag: 4.6764732017454\n",
    "# Imag: 4.792865128641\n",
    "# Zmag: 4.7814960592642\n",
    "\n",
    "Galaxies_and_Redshifts = {'Galaxy': ['Red', 'Blue'], 'Redshift': [0, 0.5, 1.5]}\n",
    "Galaxies_and_Redshifts_List = list(itertools.product(Galaxies_and_Redshifts['Galaxy'], Galaxies_and_Redshifts['Redshift']))\n",
    "Galaxies_and_Redshifts_List_df = pd.DataFrame(data = Galaxies_and_Redshifts_List, columns = Galaxies_and_Redshifts.keys())\n",
    "# k = 0\n",
    "# for i in d['Galaxy']:\n",
    "#     k += 1\n",
    "#     for j in d['Redshift']:\n",
    "#         IntermediateThing[k][0] = i\n",
    "#         IntermediateThing[k][1] = j\n",
    "# df = pd.DataFrame(data=d)\n",
    "# df\n",
    "Galaxies_and_Redshifts_List_df"
   ]
  },
  {
   "cell_type": "code",
   "execution_count": null,
   "metadata": {
    "collapsed": true
   },
   "outputs": [],
   "source": [
    "Galaxies_and_Redshifts_List_df['Z'] = pd.Series([.75, .75, .65, .4, .55, .8], index=Galaxies_and_Redshifts_List_df.index)\n",
    "Galaxies_and_Redshifts_List_df['InfraRed'] = pd.Series([.75, .65, .075, .4, .6, .5], index=Galaxies_and_Redshifts_List_df.index)\n",
    "Galaxies_and_Redshifts_List_df['Red'] = pd.Series([.6, .1, .01, .45, .7, .45], index=Galaxies_and_Redshifts_List_df.index)\n",
    "Galaxies_and_Redshifts_List_df['Green'] = pd.Series([.55, .1, .0, .6, .4, .5], index=Galaxies_and_Redshifts_List_df.index)\n",
    "Galaxies_and_Redshifts_List_df['UltraViolet'] = pd.Series([.15, .0, .0, .45, .5, .7], index=Galaxies_and_Redshifts_List_df.index)"
   ]
  },
  {
   "cell_type": "code",
   "execution_count": null,
   "metadata": {
    "collapsed": true
   },
   "outputs": [],
   "source": [
    "Galaxies_and_Redshifts_List_df.to_csv('Galaxies_and_Redshifts_List_df.csv', columns = Galaxies_and_Redshifts_List_df.columns, index = False)"
   ]
  },
  {
   "cell_type": "code",
   "execution_count": null,
   "metadata": {
    "collapsed": true
   },
   "outputs": [],
   "source": [
    "Galaxies_and_Redshifts_List_df = pd.read_csv('Galaxies_and_Redshifts_List_df.csv')"
   ]
  },
  {
   "cell_type": "code",
   "execution_count": null,
   "metadata": {},
   "outputs": [],
   "source": [
    "Umag_list = []\n",
    "for i in Galaxies_and_Redshifts_List_df['UltraViolet']:\n",
    "    i = .7 * i\n",
    "    i = i / 31.4\n",
    "    if i == 0:\n",
    "        i = 0\n",
    "        print(i)\n",
    "    else:\n",
    "        i = math.log10(i)\n",
    "        i = i * -2.5\n",
    "        print(i)\n",
    "    Umag_list.append(i)\n",
    "Galaxies_and_Redshifts_List_df['Umag'] = pd.Series(Umag_list, index=Galaxies_and_Redshifts_List_df.index)"
   ]
  },
  {
   "cell_type": "code",
   "execution_count": null,
   "metadata": {
    "scrolled": true
   },
   "outputs": [],
   "source": [
    "Gmag_list = []\n",
    "for i in Galaxies_and_Redshifts_List_df['Green']:\n",
    "    i = .93 * i\n",
    "    i = i / 31.4\n",
    "    if i == 0:\n",
    "        i = 0\n",
    "        print(i)\n",
    "    else:\n",
    "        i = math.log10(i)\n",
    "        i = i * -2.5\n",
    "        print(i)\n",
    "    Gmag_list.append(i)\n",
    "Galaxies_and_Redshifts_List_df['Gmag'] = pd.Series(Gmag_list, index=Galaxies_and_Redshifts_List_df.index)"
   ]
  },
  {
   "cell_type": "code",
   "execution_count": null,
   "metadata": {
    "scrolled": true
   },
   "outputs": [],
   "source": [
    "Rmag_list = []\n",
    "for i in Galaxies_and_Redshifts_List_df['Red']:\n",
    "    i = .94 * i\n",
    "    i = i / 31.4\n",
    "    if i == 0:\n",
    "        i = 0\n",
    "        print(i)\n",
    "    else:\n",
    "        i = math.log10(i)\n",
    "        i = i * -2.5\n",
    "        print(i)\n",
    "    Rmag_list.append(i)\n",
    "Galaxies_and_Redshifts_List_df['Rmag'] = pd.Series(Rmag_list, index=Galaxies_and_Redshifts_List_df.index)##I don't know why the only thing in the list is the last value of i"
   ]
  },
  {
   "cell_type": "code",
   "execution_count": null,
   "metadata": {},
   "outputs": [],
   "source": [
    "Imag_list = []\n",
    "for i in Galaxies_and_Redshifts_List_df['InfraRed']:\n",
    "    i = .95 * i\n",
    "    i = i / 31.4\n",
    "    if i == 0:\n",
    "        i = 0\n",
    "        print(i)\n",
    "    else:\n",
    "        i = math.log10(i)\n",
    "        i = i * -2.5\n",
    "        print(i)\n",
    "    Imag_list.append(i)\n",
    "Galaxies_and_Redshifts_List_df['Imag'] = pd.Series(Imag_list, index=Galaxies_and_Redshifts_List_df.index)"
   ]
  },
  {
   "cell_type": "code",
   "execution_count": null,
   "metadata": {
    "scrolled": false
   },
   "outputs": [],
   "source": [
    "Zmag_list = []\n",
    "for i in Galaxies_and_Redshifts_List_df['Z']:\n",
    "    i = .96 * i\n",
    "    i = i / 31.4\n",
    "    if i == 0:\n",
    "        i = 0\n",
    "        print(i)\n",
    "    else:\n",
    "        i = math.log10(i)\n",
    "        i = i * -2.5\n",
    "        print(i)\n",
    "    Zmag_list.append(i)\n",
    "Galaxies_and_Redshifts_List_df['Zmag'] = pd.Series(Zmag_list, index=Galaxies_and_Redshifts_List_df.index)"
   ]
  },
  {
   "cell_type": "markdown",
   "metadata": {},
   "source": [
    "##I don't know why the only thing in each column is the last value of i\n",
    "columns_for_this = ['UltraViolet', 'Green', 'Red', 'InfraRed', 'Z']\n",
    "'UltraViolet Rate' = '.7'\n",
    "'Green Rate' = '.93'\n",
    "'Red Rate' = '.94'\n",
    "'InfraRed Rate' = '.95'\n",
    "'Z Rate' = '.96'\n",
    "for x in columns_for_this:\n",
    "    for i in Galaxies_and_Redshifts_List_df[x]:\n",
    "        list = []\n",
    "        Rate = x + Rate\n",
    "        i = Rate * i\n",
    "        i = i / 31.4\n",
    "        if i == 0:\n",
    "            i = 0\n",
    "        else:\n",
    "            i = math.log10(i)\n",
    "            i = i * -2.5\n",
    "        list.append(i)\n",
    "    Galaxies_and_Redshifts_List_df[x[0] + 'mag'] = pd.Series(list, index=Galaxies_and_Redshifts_List_df.index)"
   ]
  },
  {
   "cell_type": "code",
   "execution_count": null,
   "metadata": {
    "scrolled": true
   },
   "outputs": [],
   "source": [
    "Galaxies_and_Redshifts_List_df"
   ]
  },
  {
   "cell_type": "code",
   "execution_count": null,
   "metadata": {
    "collapsed": true
   },
   "outputs": [],
   "source": []
  },
  {
   "cell_type": "code",
   "execution_count": null,
   "metadata": {
    "collapsed": true
   },
   "outputs": [],
   "source": []
  },
  {
   "cell_type": "code",
   "execution_count": null,
   "metadata": {},
   "outputs": [],
   "source": [
    "def younger_student(df, field_names):\n",
    "    string_dict = {}\n",
    "    for i in range(len(field_names)):\n",
    "        temp_string = field_names[i] + '-' + field_names[i-1]\n",
    "        string_dict[temp_string] = df[field_names[i]] - df[field_names[i-1]]\n",
    "        df[temp_string] = pd.Series(string_dict[temp_string], index=df.index)\n",
    "    return df, string_dict\n",
    "\n",
    "def even_younger_student(df, field_names, string_dict):\n",
    "    younger_student(df, field_names)\n",
    "    color_permutations = list(itertools.permutations(string_dict, 2))\n",
    "    return color_permutations\n",
    "\n",
    "def me_now(name, df, field_names, string_dict, plot_type, alpha_value):\n",
    "    even_younger_student(df, field_names, string_dict)\n",
    "    for i in color_permutations:\n",
    "        if plot_type == 'scatter':\n",
    "            plt.scatter(df[i[0]], df[i[1]], color='red', marker='.', s=4, alpha=alpha_value)\n",
    "            plt.xlabel(i[0])\n",
    "            plt.ylabel(i[1])\n",
    "            plt.title(name + ' ' + i[0] + ' ' + i[1] + ' ' + plot_type + 'plot')\n",
    "        elif plot_type == 'hist2d':\n",
    "            plt.hist2d(df[i[0]], df[i[1]], bins=100, alpha=alpha_value, norm=mcolors.LogNorm())\n",
    "            plt.colorbar()\n",
    "            plt.xlabel(i[0])\n",
    "            plt.ylabel(i[1])\n",
    "            plt.title(name + ' ' + i[0] + ' ' + i[1] + ' ' + plot_type + 'plot')\n",
    "        else:\n",
    "            print('error')\n",
    "        plt.savefig(name + '_' + i[0] + '_' + i[1] + '_' + plot_type + '.png')\n",
    "        plt.show()"
   ]
  },
  {
   "cell_type": "code",
   "execution_count": null,
   "metadata": {
    "scrolled": true
   },
   "outputs": [],
   "source": [
    "field_names = ['Umag', 'Gmag', 'Rmag', 'Imag', 'Zmag']\n",
    "(out_df, out_strings) = younger_student(Galaxies_and_Redshifts_List_df, field_names)\n",
    "(color_permutations) = even_younger_student(out_df, field_names, out_strings)\n",
    "me_now('Galaxies_and_Redshifts_List', Galaxies_and_Redshifts_List_df, field_names, out_strings, 'scatter', 1)"
   ]
  },
  {
   "cell_type": "markdown",
   "metadata": {},
   "source": [
    "plot those on top of plots for other data sets\n",
    "clean up notebook"
   ]
  },
  {
   "cell_type": "code",
   "execution_count": null,
   "metadata": {},
   "outputs": [],
   "source": [
    "field_names = ['Vmag', 'Bmag', 'gmag', 'rmag', 'Imag', 'zmag']\n",
    "cosmos_and_zcosmos_cross_match_colors = younger_student(cosmos_and_zcosmos_cross_match, field_names)\n",
    "(out_df, out_strings) = younger_student(cosmos_and_zcosmos_cross_match, field_names)\n",
    "(color_permutations) = even_younger_student(out_df, field_names, out_strings)\n",
    "# me_now(out_df, field_names, out_strings, 'scatter', .25)\n",
    "me_now(out_df, field_names, out_strings, 'hist2d', .25)"
   ]
  },
  {
   "cell_type": "code",
   "execution_count": null,
   "metadata": {},
   "outputs": [],
   "source": [
    "field_names = ['Vmag', 'Bmag', 'gmag', 'rmag', 'imag', 'zmag']\n",
    "(out_df, out_strings) = younger_student(cosmos_only, field_names)\n",
    "(color_permutations) = even_younger_student(out_df, field_names, out_strings)\n",
    "# me_now(out_df, field_names, out_strings, 'scatter', .25)\n",
    "me_now(out_df, field_names, out_strings, 'hist2d', .25)"
   ]
  },
  {
   "cell_type": "code",
   "execution_count": null,
   "metadata": {
    "collapsed": true
   },
   "outputs": [],
   "source": [
    "field_names = ['Vmag', 'Bmag', 'gmag', 'rmag', 'imag', 'zmag']\n",
    "(out_df, out_strings) = younger_student(cosmos, field_names)\n",
    "(color_permutations) = even_younger_student(out_df, field_names, out_strings)\n",
    "# me_now(out_df, field_names, out_strings, 'scatter', .25)\n",
    "me_now(out_df, field_names, out_strings, 'hist2d', .25)"
   ]
  },
  {
   "cell_type": "code",
   "execution_count": null,
   "metadata": {
    "collapsed": true
   },
   "outputs": [],
   "source": []
  },
  {
   "cell_type": "code",
   "execution_count": null,
   "metadata": {
    "collapsed": true
   },
   "outputs": [],
   "source": []
  },
  {
   "cell_type": "code",
   "execution_count": null,
   "metadata": {
    "scrolled": false
   },
   "outputs": [],
   "source": [
    "plt.hist(Galaxies_and_Redshifts_List_df['Umag-Gmag'], color='purple', linewidth=5, label='Umag-Gmag', bins=100)\n",
    "plt.hist(Galaxies_and_Redshifts_List_df['Gmag-Rmag'], color='green', linewidth=5, label='Gmag-Rmag', bins=100)\n",
    "plt.hist(Galaxies_and_Redshifts_List_df['Rmag-Imag'], color='orange', linewidth=5, label='Rmag-Imag', bins=100)\n",
    "plt.hist(Galaxies_and_Redshifts_List_df['Imag-Zmag'], color='red', linewidth=5, label='Imag-Zmag', bins=100)\n",
    "plt.hist(Galaxies_and_Redshifts_List_df['Zmag-Umag'], color='blue', linewidth=5, label='Zmag-Umag', bins=100)\n",
    "plt.show()"
   ]
  },
  {
   "cell_type": "code",
   "execution_count": null,
   "metadata": {},
   "outputs": [],
   "source": [
    "help(plt.hist)"
   ]
  },
  {
   "cell_type": "markdown",
   "metadata": {},
   "source": [
    "U-G\n",
    "G-R\n",
    "R-I\n",
    "I-Z\n",
    "Z-U\n",
    "\n",
    "Umag-Gmag Gmag-Rmag\n",
    "Umag-Gmag Rmag-Imag\n",
    "Umag-Gmag Imag-Zmag\n",
    "Umag-Gmag Zmag-Umag\n",
    "Gmag-Rmag Rmag-Imag\n",
    "Gmag-Rmag Imag-Zmag\n",
    "Gmag-Rmag Zmag-Umag\n",
    "Rmag-Imag Imag-Zmag\n",
    "Rmag-Imag Zmag-Umag\n",
    "Imag-Zmag Zmag-Umag"
   ]
  },
  {
   "cell_type": "code",
   "execution_count": null,
   "metadata": {
    "collapsed": true,
    "scrolled": false
   },
   "outputs": [],
   "source": [
    "plt.scatter(Galaxies_and_Redshifts_List_df['Umag-Gmag'], Galaxies_and_Redshifts_List_df['Gmag-Rmag'], color='purple', marker='.', s=10, alpha=1)\n",
    "plt.xlabel('Umag-Gmag')\n",
    "plt.ylabel('Gmag-Rmag')\n",
    "plt.savefig('scatter.png')"
   ]
  },
  {
   "cell_type": "code",
   "execution_count": null,
   "metadata": {
    "collapsed": true
   },
   "outputs": [],
   "source": [
    "plt.scatter(Galaxies_and_Redshifts_List_df['Umag-Gmag'], Galaxies_and_Redshifts_List_df['Rmag-Imag'], color='purple', marker='.', s=10, alpha=1)\n",
    "plt.xlabel('Umag-Gmag')\n",
    "plt.ylabel('Rmag-Imag')\n",
    "plt.savefig('scatter.png')"
   ]
  },
  {
   "cell_type": "code",
   "execution_count": null,
   "metadata": {
    "collapsed": true,
    "scrolled": true
   },
   "outputs": [],
   "source": [
    "plt.scatter(Galaxies_and_Redshifts_List_df['Umag-Gmag'], Galaxies_and_Redshifts_List_df['Imag-Zmag'], color='purple', marker='.', s=10, alpha=1)\n",
    "plt.xlabel('Umag-Gmag')\n",
    "plt.ylabel('Imag-Zmag')\n",
    "plt.savefig('scatter.png')"
   ]
  },
  {
   "cell_type": "code",
   "execution_count": null,
   "metadata": {
    "collapsed": true,
    "scrolled": true
   },
   "outputs": [],
   "source": [
    "plt.scatter(Galaxies_and_Redshifts_List_df['Umag-Gmag'], Galaxies_and_Redshifts_List_df['Zmag-Umag'], color='purple', marker='.', s=10, alpha=1)\n",
    "plt.xlabel('Umag-Gmag')\n",
    "plt.ylabel('Zmag-Umag')\n",
    "plt.savefig('scatter.png')"
   ]
  },
  {
   "cell_type": "code",
   "execution_count": null,
   "metadata": {
    "collapsed": true,
    "scrolled": true
   },
   "outputs": [],
   "source": [
    "plt.scatter(Galaxies_and_Redshifts_List_df['Umag-Gmag'], Galaxies_and_Redshifts_List_df['Rmag-Imag'], color='purple', marker='.', s=10, alpha=1)\n",
    "plt.xlabel('Umag-Gmag')\n",
    "plt.ylabel('Rmag-Imag')\n",
    "plt.savefig('scatter.png')"
   ]
  },
  {
   "cell_type": "code",
   "execution_count": null,
   "metadata": {
    "collapsed": true,
    "scrolled": true
   },
   "outputs": [],
   "source": [
    "plt.scatter(Galaxies_and_Redshifts_List_df['Umag-Gmag'], Galaxies_and_Redshifts_List_df['Imag-Zmag'], color='purple', marker='.', s=10, alpha=1)\n",
    "plt.xlabel('Umag-Gmag')\n",
    "plt.ylabel('Imag-Zmag')\n",
    "plt.savefig('scatter.png')"
   ]
  },
  {
   "cell_type": "code",
   "execution_count": null,
   "metadata": {
    "collapsed": true,
    "scrolled": true
   },
   "outputs": [],
   "source": [
    "plt.scatter(Galaxies_and_Redshifts_List_df['Umag-Gmag'], Galaxies_and_Redshifts_List_df['Zmag-Umag'], color='purple', marker='.', s=10, alpha=1)\n",
    "plt.xlabel('Umag-Gmag')\n",
    "plt.ylabel('Zmag-Umag')\n",
    "plt.savefig('scatter.png')"
   ]
  },
  {
   "cell_type": "code",
   "execution_count": null,
   "metadata": {
    "collapsed": true,
    "scrolled": true
   },
   "outputs": [],
   "source": [
    "plt.scatter(Galaxies_and_Redshifts_List_df['Rmag-Imag'], Galaxies_and_Redshifts_List_df['Imag-Zmag'], color='purple', marker='.', s=10, alpha=1)\n",
    "plt.xlabel('Rmag-Imag')\n",
    "plt.ylabel('Imag-Zmag')\n",
    "plt.savefig('scatter.png')"
   ]
  },
  {
   "cell_type": "code",
   "execution_count": null,
   "metadata": {
    "collapsed": true,
    "scrolled": true
   },
   "outputs": [],
   "source": [
    "plt.scatter(Galaxies_and_Redshifts_List_df['Rmag-Imag'], Galaxies_and_Redshifts_List_df['Zmag-Umag'], color='purple', marker='.', s=10, alpha=1)\n",
    "plt.xlabel('Rmag-Imag')\n",
    "plt.ylabel('Zmag-Umag')\n",
    "plt.savefig('scatter.png')"
   ]
  },
  {
   "cell_type": "code",
   "execution_count": null,
   "metadata": {
    "collapsed": true,
    "scrolled": true
   },
   "outputs": [],
   "source": [
    "plt.scatter(Galaxies_and_Redshifts_List_df['Imag-Zmag'], Galaxies_and_Redshifts_List_df['Zmag-Umag'], color='purple', marker='.', s=10, alpha=1)\n",
    "plt.xlabel('Imag-Zmag')\n",
    "plt.ylabel('Zmag-Umag')\n",
    "plt.savefig('scatter.png')"
   ]
  },
  {
   "cell_type": "code",
   "execution_count": null,
   "metadata": {
    "collapsed": true
   },
   "outputs": [],
   "source": []
  },
  {
   "cell_type": "code",
   "execution_count": null,
   "metadata": {
    "collapsed": true
   },
   "outputs": [],
   "source": []
  },
  {
   "cell_type": "code",
   "execution_count": null,
   "metadata": {
    "collapsed": true
   },
   "outputs": [],
   "source": []
  },
  {
   "cell_type": "code",
   "execution_count": null,
   "metadata": {
    "scrolled": true
   },
   "outputs": [],
   "source": [
    "list(itertools.permutations(Galaxies_and_Redshifts_List_df_colors, 2))\n",
    "for i in Numbers3:\n",
    "    plt.scatter(Galaxies_and_Redshifts_List_df[One5[i]], Galaxies_and_Redshifts_List_df[Two5[i]], color='red', marker='.', s=4, alpha=.25)\n",
    "    plt.xlabel(One5[i])\n",
    "    plt.ylabel(Two5[i])\n",
    "#     plt.savefig(One2[i] + Two2[i] + 'scatter.png')\n",
    "    plt.show()"
   ]
  },
  {
   "cell_type": "code",
   "execution_count": null,
   "metadata": {
    "collapsed": true
   },
   "outputs": [],
   "source": [
    "for i in Numbers3:\n",
    "    plt.scatter(Galaxies_and_Redshifts_List_df[One5[i]], Galaxies_and_Redshifts_List_df[Two5[i]], color='red', marker='.', s=4, alpha=.25)\n",
    "    plt.xlabel(One5[i])\n",
    "    plt.ylabel(Two5[i])\n",
    "#     plt.savefig(One2[i] + Two2[i] + 'scatter.png')\n",
    "    plt.show()"
   ]
  },
  {
   "cell_type": "code",
   "execution_count": null,
   "metadata": {
    "scrolled": true
   },
   "outputs": [],
   "source": [
    "help(itertools.permutations)"
   ]
  },
  {
   "cell_type": "code",
   "execution_count": null,
   "metadata": {
    "collapsed": true
   },
   "outputs": [],
   "source": []
  }
 ],
 "metadata": {
  "kernelspec": {
   "display_name": "Python 3",
   "language": "python",
   "name": "python3"
  },
  "language_info": {
   "codemirror_mode": {
    "name": "ipython",
    "version": 3
   },
   "file_extension": ".py",
   "mimetype": "text/x-python",
   "name": "python",
   "nbconvert_exporter": "python",
   "pygments_lexer": "ipython3",
   "version": "3.6.3"
  }
 },
 "nbformat": 4,
 "nbformat_minor": 2
}
