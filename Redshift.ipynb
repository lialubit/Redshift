{
 "cells": [
  {
   "cell_type": "code",
   "execution_count": null,
   "metadata": {
    "collapsed": true
   },
   "outputs": [],
   "source": [
    "zcosmos = 'zcosmos-asu-txt.txt'\n",
    "f = open(zcosmos, 'r')\n",
    "data = f.read()"
   ]
  },
  {
   "cell_type": "code",
   "execution_count": null,
   "metadata": {
    "collapsed": true
   },
   "outputs": [],
   "source": [
    "cosmos = 'cosmos-asu-txt.txt'\n",
    "g = open(cosmos, 'r')\n",
    "data2 = g.read()"
   ]
  },
  {
   "cell_type": "code",
   "execution_count": null,
   "metadata": {
    "collapsed": true
   },
   "outputs": [],
   "source": [
    "import csv\n",
    "data = []\n",
    "\n",
    "with open('zcosmos-asu-txt.txt', 'r') as f:\n",
    "    read_the_data = csv.reader(f, delimiter=' ')\n",
    "    for row in read_the_data:\n",
    "        data.append(row)"
   ]
  },
  {
   "cell_type": "code",
   "execution_count": null,
   "metadata": {},
   "outputs": [],
   "source": [
    "print(data)"
   ]
  },
  {
   "cell_type": "code",
   "execution_count": null,
   "metadata": {
    "collapsed": true
   },
   "outputs": [],
   "source": [
    "actual_data = data[5:-2]"
   ]
  },
  {
   "cell_type": "code",
   "execution_count": null,
   "metadata": {},
   "outputs": [],
   "source": [
    "help(astropy.io.fits)"
   ]
  },
  {
   "cell_type": "code",
   "execution_count": null,
   "metadata": {
    "collapsed": true
   },
   "outputs": [],
   "source": [
    "fits_data = astropy.io.fits.open('asu.fit')"
   ]
  },
  {
   "cell_type": "code",
   "execution_count": null,
   "metadata": {
    "collapsed": true
   },
   "outputs": [],
   "source": [
    "data = fits_data[1].data"
   ]
  },
  {
   "cell_type": "code",
   "execution_count": null,
   "metadata": {},
   "outputs": [],
   "source": [
    "x = data[\"z\"]\n",
    "print(x)"
   ]
  },
  {
   "cell_type": "code",
   "execution_count": null,
   "metadata": {},
   "outputs": [],
   "source": [
    "import matplotlib.pyplot as plt\n",
    "plt.hist(x, color='blue', linewidth=5)\n",
    "plt.xlim(0, 1)\n",
    "plt.xlabel(\"Redshift\")\n",
    "plt.ylabel(\"Number\")\n",
    "plt.title(\"ZCosmos Redshift\")\n",
    "plt.show()\n",
    "plt.savefig(\"Redshift Plot 1.png\")"
   ]
  },
  {
   "cell_type": "code",
   "execution_count": null,
   "metadata": {
    "collapsed": true
   },
   "outputs": [],
   "source": [
    "import csv\n",
    "data2 = []\n",
    "\n",
    "with open('cosmos-asu-txt.txt', 'r') as f2:\n",
    "    read_the_data = csv.reader(f, delimiter=' ')\n",
    "    for row in read_the_data:\n",
    "        data.append(row)"
   ]
  },
  {
   "cell_type": "code",
   "execution_count": null,
   "metadata": {},
   "outputs": [],
   "source": [
    "fits_data2 = astropy.io.fits.open('asu2.fit')\n",
    "data2 = fits_data2[1].data"
   ]
  },
  {
   "cell_type": "code",
   "execution_count": null,
   "metadata": {},
   "outputs": [],
   "source": [
    "x2 = data2[\"zphot\"]\n",
    "print(x2)"
   ]
  },
  {
   "cell_type": "code",
   "execution_count": null,
   "metadata": {},
   "outputs": [],
   "source": [
    "import matplotlib.pyplot as plt\n",
    "plt.hist(x2, color='blue', linewidth=5)\n",
    "plt.xlim(0, 2)\n",
    "plt.xlabel(\"Redshift\")\n",
    "plt.ylabel(\"Number\")\n",
    "plt.title(\"Cosmos Redshift\")\n",
    "plt.show()\n",
    "plt.savefig(\"Redshift Plot 2.png\")"
   ]
  },
  {
   "cell_type": "code",
   "execution_count": null,
   "metadata": {},
   "outputs": [],
   "source": [
    "import matplotlib.pyplot as plt\n",
    "plt.hist(x, color='green', linewidth=5, alpha=0.5, label=\"ZCosmos\")\n",
    "plt.hist(x2, color='blue', linewidth=5, alpha=0.5, label=\"Cosmos\")\n",
    "plt.xlim(0, 2)\n",
    "plt.xlabel(\"Redshift\")\n",
    "plt.ylabel(\"Number\")\n",
    "plt.title(\"Cosmos AND ZCosmos Redshift\")\n",
    "plt.legend()\n",
    "plt.show()\n",
    "plt.savefig(\"Redshift Plot 3.png\")"
   ]
  },
  {
   "cell_type": "code",
   "execution_count": null,
   "metadata": {
    "collapsed": true
   },
   "outputs": [],
   "source": []
  }
 ],
 "metadata": {
  "kernelspec": {
   "display_name": "Python 3",
   "language": "python",
   "name": "python3"
  },
  "language_info": {
   "codemirror_mode": {
    "name": "ipython",
    "version": 3
   },
   "file_extension": ".py",
   "mimetype": "text/x-python",
   "name": "python",
   "nbconvert_exporter": "python",
   "pygments_lexer": "ipython3",
   "version": "3.6.3"
  }
 },
 "nbformat": 4,
 "nbformat_minor": 2
}
