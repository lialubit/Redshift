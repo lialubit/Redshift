{
 "cells": [
  {
   "cell_type": "code",
   "execution_count": null,
   "metadata": {
    "collapsed": true
   },
   "outputs": [],
   "source": [
    "import matplotlib.pyplot as plt\n",
    "plt.hist(x4, bins = 50, color='green', linewidth=5, alpha=0.5, label=\"Bmag\")\n",
    "plt.hist(x5, bins = 50, color='blue', linewidth=5, alpha=0.5, label=\"Vmag\")\n",
    "plt.hist(x6, bins = 50, color='purple', linewidth=5, alpha=0.5, label=\"gmag\")\n",
    "plt.hist(x7, bins = 50, color='yellow', linewidth=5, alpha=0.5, label=\"rmag\")\n",
    "plt.hist(x8, bins = 50, color='red', linewidth=5, alpha=0.5, label=\"umag\")\n",
    "plt.hist(x9, bins = 50, color='orange', linewidth=5, alpha=0.5, label=\"imag\")\n",
    "plt.hist(x11, bins = 50, color='magenta', linewidth=5, alpha=0.5, label=\"zmag\")\n",
    "plt.xlim(0, 30)\n",
    "plt.xlabel(\"Magnitudes\")\n",
    "plt.ylabel(\"Number\")\n",
    "plt.title(\"Cosmos Magnitues\")\n",
    "plt.legend()\n",
    "plt.show()\n",
    "plt.savefig(\"Cosmos Magnitues Plot.png\")"
   ]
  },
  {
   "cell_type": "code",
   "execution_count": null,
   "metadata": {
    "collapsed": true
   },
   "outputs": [],
   "source": [
    "for i in :\n",
    "    import matplotlib.pyplot as plt\n",
    "    plt.hist(ZCosmos[i], color='green', linewidth=5, alpha=0.5, label=\"ZCosmos\")\n",
    "    plt.hist(Cosmos[i], color='blue', linewidth=5, alpha=0.5, label=\"Cosmos\")\n",
    "    plt.xlim(0, 2)\n",
    "    plt.xlabel(\"i\")\n",
    "    plt.ylabel(\"Number\")\n",
    "    plt.title(\"Cosmos AND ZCosmos\" + \" \" + i)\n",
    "    plt.legend()\n",
    "    plt.show()"
   ]
  },
  {
   "cell_type": "code",
   "execution_count": null,
   "metadata": {
    "collapsed": true
   },
   "outputs": [],
   "source": [
    "len(cosmoskmag[cosmoskmag == 0.])"
   ]
  },
  {
   "cell_type": "code",
   "execution_count": null,
   "metadata": {
    "collapsed": true
   },
   "outputs": [],
   "source": [
    "import numpy as np\n",
    "import matplotlib.pyplot as plt\n",
    "\n",
    "plt.scatter(cosmosgmag, cosmosrmag)\n",
    "plt.xlim(15,30)\n",
    "plt.ylim(15,30)plt.show()"
   ]
  },
  {
   "cell_type": "code",
   "execution_count": null,
   "metadata": {
    "collapsed": true
   },
   "outputs": [],
   "source": [
    "interesting_columns = [6, 7, 8, 9, 11, 13]\n",
    "col_range = range(len(interesting_columns))"
   ]
  },
  {
   "cell_type": "code",
   "execution_count": null,
   "metadata": {
    "collapsed": true
   },
   "outputs": [],
   "source": [
    "for i in [6, 7, 8, 9, 11, 13]:\n",
    "    name = data2.names[i]\n",
    "    plt.hist(data2[name][data2['Kmag'] != 0.])\n",
    "    plt.show()"
   ]
  },
  {
   "cell_type": "code",
   "execution_count": null,
   "metadata": {
    "collapsed": true
   },
   "outputs": [],
   "source": [
    "import matplotlib.pyplot as plt\n",
    "plt.hist(x, color='green', linewidth=5, alpha=0.5, label=\"ZCosmos\")\n",
    "plt.hist(x2, color='blue', linewidth=5, alpha=0.5, label=\"Cosmos\")\n",
    "plt.xlim(0, 2)\n",
    "plt.xlabel(\"Redshift\")\n",
    "plt.ylabel(\"Number\")\n",
    "plt.title(\"Cosmos AND ZCosmos Redshift\")\n",
    "plt.legend()\n",
    "plt.savefig(\"Redshift Plot 3.png\")\n",
    "plt.show()"
   ]
  },
  {
   "cell_type": "code",
   "execution_count": null,
   "metadata": {
    "collapsed": true
   },
   "outputs": [],
   "source": [
    "##Trying to get only the points in cosmos that are also in zcosmos.\n",
    "for i in Cosmos_df_filtered:\n",
    "    if i in test_data:\n",
    "        in_cosmos_and_zcosmos = i\n",
    "Cosmos_df_in_zcosmos = cosmos_df_filtered['COSMOS'].astype(str).str.contains(in_cosmos_and_zcosmos)]\n",
    "Cosmos_df_in_zcosmos.head()"
   ]
  },
  {
   "cell_type": "code",
   "execution_count": null,
   "metadata": {
    "collapsed": true
   },
   "outputs": [],
   "source": [
    "##Trying to get only the points in zcosmos that are also in cosmos.\n",
    "for i in zCosmos_df_filtered:\n",
    "    if i in test_data:\n",
    "        in_zcosmos_and_cosmos = i\n",
    "zCosmos_df_in_cosmos = zcosmos_df_filtered['zCOSMOS'].astype(str).str[-4:].str.contains(in_zcosmos_and_cosmos)]\n",
    "zCosmos_df_in_cosmos.head()"
   ]
  }
 ],
 "metadata": {
  "kernelspec": {
   "display_name": "Python 3",
   "language": "python",
   "name": "python3"
  },
  "language_info": {
   "codemirror_mode": {
    "name": "ipython",
    "version": 3
   },
   "file_extension": ".py",
   "mimetype": "text/x-python",
   "name": "python",
   "nbconvert_exporter": "python",
   "pygments_lexer": "ipython3",
   "version": "3.6.3"
  }
 },
 "nbformat": 4,
 "nbformat_minor": 2
}
